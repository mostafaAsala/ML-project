{
 "cells": [
  {
   "cell_type": "markdown",
   "metadata": {},
   "source": [
    "# Movie NER Model Demo\n",
    "\n",
    "This notebook demonstrates how to train and use a Named Entity Recognition (NER) model for extracting movie-related entities from user queries.\n",
    "\n",
    "## Entity Types\n",
    "- **DIRECTOR**: Movie directors (e.g., \"Christopher Nolan\")\n",
    "- **CAST**: Actors and actresses (e.g., \"Leonardo DiCaprio\")\n",
    "- **GENRE**: Movie genres (e.g., \"action\", \"comedy\")"
   ]
  },
  {
   "cell_type": "markdown",
   "metadata": {},
   "source": [
    "## 1. Setup and Imports"
   ]
  },
  {
   "cell_type": "code",
   "execution_count": 2,
   "metadata": {},
   "outputs": [
    {
     "name": "stdout",
     "output_type": "stream",
     "text": [
      "✓ Imports successful\n"
     ]
    }
   ],
   "source": [
    "import os\n",
    "import pandas as pd\n",
    "from ner_model import MovieNERModel, MovieNERDataGenerator, train_movie_ner_model\n",
    "\n",
    "# Set up logging to see training progress\n",
    "import logging\n",
    "logging.basicConfig(level=logging.INFO)\n",
    "\n",
    "print(\"✓ Imports successful\")"
   ]
  },
  {
   "cell_type": "markdown",
   "metadata": {},
   "source": [
    "## 2. Generate Training Data\n",
    "\n",
    "First, let's see how training data is generated for the NER model."
   ]
  },
  {
   "cell_type": "code",
   "execution_count": 6,
   "metadata": {},
   "outputs": [
    {
     "name": "stdout",
     "output_type": "stream",
     "text": [
      "Generated 10 training samples:\n",
      "\n",
      "Sample 1:\n",
      "  Text: Show me films directed by Chloe Zhao\n",
      "  Entities: [(26, 36, 'DIRECTOR')]\n",
      "    DIRECTOR: 'Chloe Zhao'\n",
      "\n",
      "Sample 2:\n",
      "  Text: Find movies with Margot Robbie and Lupita Nyong'o\n",
      "  Entities: [(17, 30, 'CAST'), (35, 49, 'CAST')]\n",
      "    CAST: 'Margot Robbie'\n",
      "    CAST: 'Lupita Nyong'o'\n",
      "\n",
      "Sample 3:\n",
      "  Text: Show me horror films\n",
      "  Entities: [(8, 14, 'GENRE')]\n",
      "    GENRE: 'horror'\n",
      "\n",
      "Sample 4:\n",
      "  Text: Find action and western movies\n",
      "  Entities: [(5, 11, 'GENRE'), (16, 23, 'GENRE')]\n",
      "    GENRE: 'action'\n",
      "    GENRE: 'western'\n",
      "\n",
      "Sample 5:\n",
      "  Text: Find movies by Quentin Tarantino\n",
      "  Entities: [(15, 32, 'DIRECTOR')]\n",
      "    DIRECTOR: 'Quentin Tarantino'\n",
      "\n"
     ]
    }
   ],
   "source": [
    "# Create data generator\n",
    "generator = MovieNERDataGenerator()\n",
    "\n",
    "# Generate sample training data\n",
    "samples = generator.generate_training_data(num_samples=10)\n",
    "\n",
    "print(f\"Generated {len(samples)} training samples:\")\n",
    "print()\n",
    "\n",
    "for i, (text, annotations) in enumerate(samples[:5], 1):\n",
    "    print(f\"Sample {i}:\")\n",
    "    print(f\"  Text: {text}\")\n",
    "    print(f\"  Entities: {annotations['entities']}\")\n",
    "    \n",
    "    # Show entity text\n",
    "    for start, end, label in annotations['entities']:\n",
    "        entity_text = text[start:end]\n",
    "        print(f\"    {label}: '{entity_text}'\")\n",
    "    print()"
   ]
  },
  {
   "cell_type": "markdown",
   "metadata": {},
   "source": [
    "## 3. Before Training - Test Untrained Model\n",
    "\n",
    "Let's see what happens when we try to extract entities with an untrained model."
   ]
  },
  {
   "cell_type": "code",
   "execution_count": 11,
   "metadata": {},
   "outputs": [
    {
     "name": "stderr",
     "output_type": "stream",
     "text": [
      "INFO:ner_model:Loaded base model: en_core_web_sm\n"
     ]
    },
    {
     "name": "stdout",
     "output_type": "stream",
     "text": [
      "UNTRAINED MODEL RESULTS:\n",
      "Query: I want action movies directed by Christopher Nolan\n",
      "Entities: {'DIRECTOR': [], 'CAST': [], 'GENRE': []}\n",
      "\n",
      "As expected, the untrained model finds no entities.\n"
     ]
    }
   ],
   "source": [
    "# Create untrained model\n",
    "untrained_model = MovieNERModel()\n",
    "\n",
    "# Test query\n",
    "test_query = \"I want action movies directed by Christopher Nolan\"\n",
    "\n",
    "# Extract entities (should be empty)\n",
    "untrained_entities = untrained_model.extract_entities(test_query)\n",
    "\n",
    "print(\"UNTRAINED MODEL RESULTS:\")\n",
    "print(f\"Query: {test_query}\")\n",
    "print(f\"Entities: {untrained_entities}\")\n",
    "print()\n",
    "print(\"As expected, the untrained model finds no entities.\")"
   ]
  },
  {
   "cell_type": "markdown",
   "metadata": {},
   "source": [
    "## 4. Train the Model\n",
    "\n",
    "Now let's train a model and see the difference."
   ]
  },
  {
   "cell_type": "code",
   "execution_count": 3,
   "metadata": {},
   "outputs": [
    {
     "name": "stderr",
     "output_type": "stream",
     "text": [
      "INFO:ner_model:Loaded base model: en_core_web_sm\n",
      "INFO:ner_model:Generating 300 training samples...\n",
      "INFO:ner_model:Prepared 240 training and 60 validation samples\n"
     ]
    },
    {
     "name": "stdout",
     "output_type": "stream",
     "text": [
      "Preparing training data...\n",
      "Training samples: 240\n",
      "Validation samples: 60\n"
     ]
    }
   ],
   "source": [
    "# Initialize model\n",
    "model = MovieNERModel()\n",
    "\n",
    "# Prepare training data\n",
    "print(\"Preparing training data...\")\n",
    "model.prepare_training_data(num_samples=300)  # Smaller number for notebook demo\n",
    "\n",
    "print(f\"Training samples: {len(model.training_data)}\")\n",
    "print(f\"Validation samples: {len(model.validation_data)}\")"
   ]
  },
  {
   "cell_type": "code",
   "execution_count": 4,
   "metadata": {},
   "outputs": [
    {
     "name": "stderr",
     "output_type": "stream",
     "text": [
      "INFO:ner_model:Training model for 50 iterations...\n",
      "[2025-05-23 15:30:38,244] [INFO] Added vocab lookups: lexeme_norm\n",
      "INFO:spacy:Added vocab lookups: lexeme_norm\n",
      "[2025-05-23 15:30:38,245] [INFO] Created vocabulary\n",
      "INFO:spacy:Created vocabulary\n",
      "[2025-05-23 15:30:38,249] [INFO] Finished initializing nlp object\n",
      "INFO:spacy:Finished initializing nlp object\n"
     ]
    },
    {
     "name": "stdout",
     "output_type": "stream",
     "text": [
      "Training the model...\n",
      "This may take a few minutes...\n"
     ]
    },
    {
     "name": "stderr",
     "output_type": "stream",
     "text": [
      "INFO:ner_model:Iteration 0: Loss=748.6536, Val F1={'ents_f': 0.0, 'ents_p': 0.0, 'ents_r': 0.0}\n",
      "INFO:ner_model:Iteration 5: Loss=49.2942, Val F1={'ents_f': 0.0, 'ents_p': 0.0, 'ents_r': 0.0}\n",
      "INFO:ner_model:Iteration 10: Loss=7.1466, Val F1={'ents_f': 0.0, 'ents_p': 0.0, 'ents_r': 0.0}\n",
      "INFO:ner_model:Iteration 15: Loss=2.4199, Val F1={'ents_f': 0.0, 'ents_p': 0.0, 'ents_r': 0.0}\n",
      "INFO:ner_model:Iteration 20: Loss=5.9272, Val F1={'ents_f': 0.0, 'ents_p': 0.0, 'ents_r': 0.0}\n",
      "INFO:ner_model:Iteration 25: Loss=0.0004, Val F1={'ents_f': 0.0, 'ents_p': 0.0, 'ents_r': 0.0}\n",
      "INFO:ner_model:Iteration 30: Loss=3.9748, Val F1={'ents_f': 0.0, 'ents_p': 0.0, 'ents_r': 0.0}\n",
      "INFO:ner_model:Iteration 35: Loss=1.9842, Val F1={'ents_f': 0.0, 'ents_p': 0.0, 'ents_r': 0.0}\n",
      "INFO:ner_model:Iteration 40: Loss=1.5255, Val F1={'ents_f': 0.0, 'ents_p': 0.0, 'ents_r': 0.0}\n",
      "INFO:ner_model:Iteration 45: Loss=0.0002, Val F1={'ents_f': 0.0, 'ents_p': 0.0, 'ents_r': 0.0}\n",
      "INFO:ner_model:Training completed. Final F1 score: 0.0000\n"
     ]
    },
    {
     "name": "stdout",
     "output_type": "stream",
     "text": [
      "\n",
      "✓ Training completed!\n",
      "Final F1 score: 0.0000\n"
     ]
    }
   ],
   "source": [
    "# Train the model\n",
    "print(\"Training the model...\")\n",
    "print(\"This may take a few minutes...\")\n",
    "\n",
    "metrics = model.train(n_iter=50)  # Fewer iterations for notebook demo\n",
    "\n",
    "print(\"\\n✓ Training completed!\")\n",
    "print(f\"Final F1 score: {metrics['final_score'].get('ents_f', 0):.4f}\")"
   ]
  },
  {
   "cell_type": "markdown",
   "metadata": {},
   "source": [
    "## 5. Test the Trained Model\n",
    "\n",
    "Now let's test the trained model with the same query."
   ]
  },
  {
   "cell_type": "code",
   "execution_count": 12,
   "metadata": {},
   "outputs": [
    {
     "name": "stdout",
     "output_type": "stream",
     "text": [
      "TRAINED MODEL RESULTS:\n",
      "Query: I want action movies directed by Christopher Nolan\n",
      "Entities: {'DIRECTOR': ['Christopher Nolan'], 'CAST': [], 'GENRE': ['action']}\n",
      "\n",
      "COMPARISON:\n",
      "Untrained: {'DIRECTOR': [], 'CAST': [], 'GENRE': []}\n",
      "Trained:   {'DIRECTOR': ['Christopher Nolan'], 'CAST': [], 'GENRE': ['action']}\n",
      "\n",
      "✓ Training improved entity extraction!\n"
     ]
    }
   ],
   "source": [
    "# Test the same query with trained model\n",
    "test_query = \"I want action movies directed by Christopher Nolan\"\n",
    "trained_entities = model.extract_entities(test_query)\n",
    "\n",
    "print(\"TRAINED MODEL RESULTS:\")\n",
    "print(f\"Query: {test_query}\")\n",
    "print(f\"Entities: {trained_entities}\")\n",
    "print()\n",
    "\n",
    "# Compare results\n",
    "print(\"COMPARISON:\")\n",
    "print(f\"Untrained: {untrained_entities}\")\n",
    "print(f\"Trained:   {trained_entities}\")\n",
    "print()\n",
    "\n",
    "# Check improvement\n",
    "untrained_total = sum(len(entities) for entities in untrained_entities.values())\n",
    "trained_total = sum(len(entities) for entities in trained_entities.values())\n",
    "\n",
    "if trained_total > untrained_total:\n",
    "    print(\"✓ Training improved entity extraction!\")\n",
    "else:\n",
    "    print(\"⚠ Training may need more data or iterations\")"
   ]
  },
  {
   "cell_type": "markdown",
   "metadata": {},
   "source": [
    "## 6. Test Multiple Queries\n",
    "\n",
    "Let's test the trained model with various types of queries."
   ]
  },
  {
   "cell_type": "code",
   "execution_count": 13,
   "metadata": {},
   "outputs": [
    {
     "name": "stdout",
     "output_type": "stream",
     "text": [
      "ENTITY EXTRACTION RESULTS:\n",
      "============================================================\n",
      "\n",
      "1. Query: I want action movies directed by Christopher Nolan\n",
      "   DIRECTOR: ['Christopher Nolan']\n",
      "   GENRE: ['action']\n",
      "\n",
      "2. Query: Show me comedy films with Will Smith\n",
      "   CAST: ['Will Smith']\n",
      "   GENRE: ['comedy']\n",
      "\n",
      "3. Query: Find horror movies starring Lupita Nyong'o\n",
      "   CAST: [\"Lupita Nyong'o\"]\n",
      "   GENRE: ['horror']\n",
      "\n",
      "4. Query: I love animated movies\n",
      "   No entities found\n",
      "\n",
      "5. Query: Show me thriller films\n",
      "   GENRE: ['thriller']\n",
      "\n",
      "6. Query: Find movies with Tom Hanks\n",
      "   CAST: ['Tom Hanks']\n",
      "\n",
      "7. Query: I want films directed by Quentin Tarantino\n",
      "   DIRECTOR: ['Quentin Tarantino']\n",
      "\n",
      "8. Query: Show me sci-fi movies with Leonardo DiCaprio\n",
      "   CAST: ['Leonardo DiCaprio']\n",
      "   GENRE: ['sci-fi']\n"
     ]
    }
   ],
   "source": [
    "# Test queries\n",
    "test_queries = [\n",
    "    \"I want action movies directed by Christopher Nolan\",\n",
    "    \"Show me comedy films with Will Smith\",\n",
    "    \"Find horror movies starring Lupita Nyong'o\",\n",
    "    \"I love animated movies\",\n",
    "    \"Show me thriller films\",\n",
    "    \"Find movies with Tom Hanks\",\n",
    "    \"I want films directed by Quentin Tarantino\",\n",
    "    \"Show me sci-fi movies with Leonardo DiCaprio\"\n",
    "]\n",
    "\n",
    "print(\"ENTITY EXTRACTION RESULTS:\")\n",
    "print(\"=\" * 60)\n",
    "\n",
    "for i, query in enumerate(test_queries, 1):\n",
    "    entities = model.extract_entities(query)\n",
    "    \n",
    "    print(f\"\\n{i}. Query: {query}\")\n",
    "    \n",
    "    found_any = False\n",
    "    for entity_type, entity_list in entities.items():\n",
    "        if entity_list:\n",
    "            print(f\"   {entity_type}: {entity_list}\")\n",
    "            found_any = True\n",
    "    \n",
    "    if not found_any:\n",
    "        print(\"   No entities found\")"
   ]
  },
  {
   "cell_type": "markdown",
   "metadata": {},
   "source": [
    "## 7. Save and Load Model\n",
    "\n",
    "Let's save the trained model and demonstrate loading it."
   ]
  },
  {
   "cell_type": "code",
   "execution_count": 14,
   "metadata": {},
   "outputs": [
    {
     "name": "stderr",
     "output_type": "stream",
     "text": [
      "INFO:ner_model:Model saved to saved_models/notebook_ner_model\n"
     ]
    },
    {
     "name": "stdout",
     "output_type": "stream",
     "text": [
      "✓ Model saved to: saved_models/notebook_ner_model\n"
     ]
    }
   ],
   "source": [
    "# Save the model\n",
    "model_path = \"saved_models/notebook_ner_model\"\n",
    "model.save_model(model_path)\n",
    "\n",
    "print(f\"✓ Model saved to: {model_path}\")"
   ]
  },
  {
   "cell_type": "code",
   "execution_count": 15,
   "metadata": {},
   "outputs": [
    {
     "name": "stderr",
     "output_type": "stream",
     "text": [
      "INFO:ner_model:Loaded base model: en_core_web_sm\n",
      "INFO:ner_model:Model loaded from saved_models/notebook_ner_model\n"
     ]
    },
    {
     "name": "stdout",
     "output_type": "stream",
     "text": [
      "LOADED MODEL TEST:\n",
      "Query: Find drama movies with Meryl Streep\n",
      "Entities: {'DIRECTOR': [], 'CAST': ['Meryl Streep'], 'GENRE': ['drama']}\n",
      "\n",
      "✓ Model loaded and working correctly!\n"
     ]
    }
   ],
   "source": [
    "# Load the model in a new instance\n",
    "loaded_model = MovieNERModel()\n",
    "loaded_model.load_model(model_path)\n",
    "\n",
    "# Test the loaded model\n",
    "test_query = \"Find drama movies with Meryl Streep\"\n",
    "entities = loaded_model.extract_entities(test_query)\n",
    "\n",
    "print(\"LOADED MODEL TEST:\")\n",
    "print(f\"Query: {test_query}\")\n",
    "print(f\"Entities: {entities}\")\n",
    "print(\"\\n✓ Model loaded and working correctly!\")"
   ]
  },
  {
   "cell_type": "markdown",
   "metadata": {},
   "source": [
    "## 8. Complete Training Function\n",
    "\n",
    "For convenience, you can also use the complete training function."
   ]
  },
  {
   "cell_type": "code",
   "execution_count": 16,
   "metadata": {},
   "outputs": [
    {
     "name": "stdout",
     "output_type": "stream",
     "text": [
      "Found movie data: wiki_movie_plots_deduped.csv\n",
      "\n",
      "Training complete model with more data...\n"
     ]
    },
    {
     "name": "stderr",
     "output_type": "stream",
     "text": [
      "INFO:ner_model:Loaded base model: en_core_web_sm\n",
      "INFO:ner_model:Generating 500 training samples...\n",
      "INFO:ner_model:Loaded 12592 directors and 30365 cast members\n",
      "INFO:ner_model:Prepared 400 training and 100 validation samples\n",
      "INFO:ner_model:Training model for 25 iterations...\n",
      "[2025-05-23 15:43:02,874] [INFO] Added vocab lookups: lexeme_norm\n",
      "INFO:spacy:Added vocab lookups: lexeme_norm\n",
      "[2025-05-23 15:43:02,874] [INFO] Created vocabulary\n",
      "INFO:spacy:Created vocabulary\n",
      "[2025-05-23 15:43:02,874] [INFO] Finished initializing nlp object\n",
      "INFO:spacy:Finished initializing nlp object\n",
      "INFO:ner_model:Iteration 0: Loss=1079.6726, Val F1={'ents_f': 0.0, 'ents_p': 0.0, 'ents_r': 0.0}\n",
      "INFO:ner_model:Iteration 5: Loss=178.3941, Val F1={'ents_f': 0.0, 'ents_p': 0.0, 'ents_r': 0.0}\n",
      "INFO:ner_model:Iteration 10: Loss=38.9710, Val F1={'ents_f': 0.0, 'ents_p': 0.0, 'ents_r': 0.0}\n",
      "INFO:ner_model:Iteration 15: Loss=13.2484, Val F1={'ents_f': 0.0, 'ents_p': 0.0, 'ents_r': 0.0}\n",
      "INFO:ner_model:Iteration 20: Loss=8.9472, Val F1={'ents_f': 0.0, 'ents_p': 0.0, 'ents_r': 0.0}\n",
      "INFO:ner_model:Training completed. Final F1 score: 0.0000\n",
      "INFO:ner_model:Model saved to saved_models/complete_ner_model_20250523_154434\n",
      "INFO:ner_model:Training completed. Model saved to: saved_models/complete_ner_model_20250523_154434\n",
      "INFO:ner_model:Final F1 score: 0.0000\n"
     ]
    },
    {
     "name": "stdout",
     "output_type": "stream",
     "text": [
      "\n",
      "✓ Complete model saved to: saved_models/complete_ner_model_20250523_154434\n"
     ]
    }
   ],
   "source": [
    "# Check if we have movie data available\n",
    "movie_data_files = [\n",
    "    'wiki_movie_plots_deduped.csv',\n",
    "    'wiki_movie_plots_deduped_cleaned.csv'\n",
    "]\n",
    "\n",
    "movie_data_path = None\n",
    "for file_path in movie_data_files:\n",
    "    if os.path.exists(file_path):\n",
    "        movie_data_path = file_path\n",
    "        print(f\"Found movie data: {file_path}\")\n",
    "        break\n",
    "\n",
    "if not movie_data_path:\n",
    "    print(\"No movie data found. Using fallback data.\")\n",
    "\n",
    "# Train a complete model\n",
    "print(\"\\nTraining complete model with more data...\")\n",
    "complete_model_path = train_movie_ner_model(\n",
    "    movie_data_path=movie_data_path,\n",
    "    num_samples=500,\n",
    "    n_iter=25,\n",
    "    model_save_path=\"saved_models/complete_ner_model\"\n",
    ")\n",
    "\n",
    "print(f\"\\n✓ Complete model saved to: {complete_model_path}\")"
   ]
  },
  {
   "cell_type": "markdown",
   "metadata": {},
   "source": [
    "## 9. Test the Complete Model\n",
    "\n",
    "Let's test the complete model with more challenging queries."
   ]
  },
  {
   "cell_type": "code",
   "execution_count": 17,
   "metadata": {},
   "outputs": [
    {
     "name": "stderr",
     "output_type": "stream",
     "text": [
      "INFO:ner_model:Loaded base model: en_core_web_sm\n",
      "INFO:ner_model:Model loaded from saved_models/complete_ner_model_20250523_154434\n"
     ]
    },
    {
     "name": "stdout",
     "output_type": "stream",
     "text": [
      "COMPLETE MODEL - CHALLENGING QUERIES:\n",
      "============================================================\n",
      "\n",
      "1. Query: I want action movies directed by Christopher Nolan with Leonardo DiCaprio\n",
      "   DIRECTOR: ['Christopher Nolan']\n",
      "   CAST: ['Leonardo DiCaprio']\n",
      "   GENRE: ['action']\n",
      "\n",
      "2. Query: Show me comedy and drama films\n",
      "   GENRE: ['comedy', 'drama']\n",
      "\n",
      "3. Query: Find sci-fi movies starring Tom Hanks and directed by Steven Spielberg\n",
      "   DIRECTOR: ['Steven Spielberg']\n",
      "   CAST: ['Tom Hanks']\n",
      "   GENRE: ['sci-fi']\n",
      "\n",
      "4. Query: I love romantic comedies with Emma Stone\n",
      "   CAST: ['Emma Stone']\n",
      "   GENRE: ['romantic']\n",
      "\n",
      "5. Query: Show me horror and thriller movies\n",
      "   GENRE: ['horror', 'thriller']\n"
     ]
    }
   ],
   "source": [
    "# Load the complete model\n",
    "complete_model = MovieNERModel()\n",
    "complete_model.load_model(complete_model_path)\n",
    "\n",
    "# More challenging test queries\n",
    "challenging_queries = [\n",
    "    \"I want action movies directed by Christopher Nolan with Leonardo DiCaprio\",\n",
    "    \"Show me comedy and drama films\",\n",
    "    \"Find sci-fi movies starring Tom Hanks and directed by Steven Spielberg\",\n",
    "    \"I love romantic comedies with Emma Stone\",\n",
    "    \"Show me horror and thriller movies\"\n",
    "]\n",
    "\n",
    "print(\"COMPLETE MODEL - CHALLENGING QUERIES:\")\n",
    "print(\"=\" * 60)\n",
    "\n",
    "for i, query in enumerate(challenging_queries, 1):\n",
    "    entities = complete_model.extract_entities(query)\n",
    "    \n",
    "    print(f\"\\n{i}. Query: {query}\")\n",
    "    \n",
    "    for entity_type, entity_list in entities.items():\n",
    "        if entity_list:\n",
    "            print(f\"   {entity_type}: {entity_list}\")"
   ]
  },
  {
   "cell_type": "markdown",
   "metadata": {},
   "source": [
    "## 10. Summary\n",
    "\n",
    "This notebook demonstrated:\n",
    "\n",
    "1. **Training Data Generation**: How synthetic training data is created\n",
    "2. **Model Training**: Training a spaCy NER model for movie entities\n",
    "3. **Before/After Comparison**: Showing the improvement from training\n",
    "4. **Entity Extraction**: Using the trained model to extract entities\n",
    "5. **Model Persistence**: Saving and loading trained models\n",
    "\n",
    "### Key Takeaways:\n",
    "- NER models need training to extract entities effectively\n",
    "- More training data and iterations improve performance\n",
    "- The model can extract multiple entity types from one query\n",
    "- Trained models can be saved and reused\n",
    "\n",
    "### Next Steps:\n",
    "- Use the trained model in your movie recommendation system\n",
    "- Integrate with genre prediction and vector search components\n",
    "- Experiment with different training data sizes and iterations\n",
    "- Add more entity types if needed"
   ]
  }
 ],
 "metadata": {
  "kernelspec": {
   "display_name": "ml_env",
   "language": "python",
   "name": "python3"
  },
  "language_info": {
   "codemirror_mode": {
    "name": "ipython",
    "version": 3
   },
   "file_extension": ".py",
   "mimetype": "text/x-python",
   "name": "python",
   "nbconvert_exporter": "python",
   "pygments_lexer": "ipython3",
   "version": "3.11.2"
  }
 },
 "nbformat": 4,
 "nbformat_minor": 4
}
