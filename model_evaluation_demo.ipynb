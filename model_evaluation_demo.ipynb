{
 "cells": [
  {
   "cell_type": "markdown",
   "metadata": {},
   "source": [
    "# Multi-Model Evaluation for Movie Genre Prediction\n",
    "\n",
    "This notebook demonstrates how to use the ModelEvaluator class to evaluate multiple machine learning models from basic to advanced for predicting movie genres based on plot descriptions."
   ]
  },
  {
   "cell_type": "code",
   "execution_count": 1,
   "metadata": {},
   "outputs": [],
   "source": [
    "# Import necessary libraries\n",
    "import pandas as pd\n",
    "import numpy as np\n",
    "import matplotlib.pyplot as plt\n",
    "import seaborn as sns\n",
    "from sklearn.model_selection import train_test_split\n",
    "from sklearn.preprocessing import MultiLabelBinarizer\n",
    "from sklearn.feature_extraction.text import TfidfVectorizer\n",
    "from sklearn.feature_selection import SelectKBest, chi2\n",
    "from scipy.sparse import hstack, csr_matrix\n",
    "\n",
    "# Import our custom ModelEvaluator class\n",
    "from model_evaluator import ModelEvaluator"
   ]
  },
  {
   "cell_type": "markdown",
   "metadata": {},
   "source": [
    "## 1. Load and Prepare the Data"
   ]
  },
  {
   "cell_type": "code",
   "execution_count": 2,
   "metadata": {},
   "outputs": [
    {
     "name": "stdout",
     "output_type": "stream",
     "text": [
      "Loaded dataset with 34886 movies\n",
      "['Unnamed: 0', 'Release Year', 'Title', 'Origin/Ethnicity', 'Director', 'Cast', 'Genre', 'Wiki Page', 'Plot', 'genres_list', 'Genre_list', 'Cast_list', 'genre_list_raw', 'genre_list', 'plot_clean', 'plot_lemmatized']\n"
     ]
    }
   ],
   "source": [
    "# Load the preprocessed data\n",
    "df = pd.read_csv('wiki_movie_plots_deduped_cleaned.csv')\n",
    "print(f\"Loaded dataset with {len(df)} movies\")\n",
    "print(df.columns.tolist())"
   ]
  },
  {
   "cell_type": "code",
   "execution_count": null,
   "metadata": {},
   "outputs": [],
   "source": [
    "# Check the first few rows\n",
    "df.head()"
   ]
  },
  {
   "cell_type": "code",
   "execution_count": null,
   "metadata": {},
   "outputs": [],
   "source": [
    "# Check for missing values\n",
    "print(\"Missing values per column:\")\n",
    "print(df.isnull().sum())"
   ]
  },
  {
   "cell_type": "code",
   "execution_count": 9,
   "metadata": {},
   "outputs": [
    {
     "data": {
      "text/plain": [
       "array(['[]', \"['western']\", \"['comedy']\", \"['crime', 'action']\",\n",
       "       \"['drama']\", \"['adventure']\", \"['fantasy']\", \"['sport']\",\n",
       "       \"['horror']\", \"['crime']\", \"['drama', 'horror']\",\n",
       "       \"['documentary']\", \"['western', 'comedy']\", \"['biography']\",\n",
       "       \"['action']\", \"['mystery']\", \"['romance']\",\n",
       "       \"['drama', 'adventure']\", \"['fantasy', 'family']\", \"['war']\",\n",
       "       \"['comedy', 'adventure']\", \"['fantasy', 'adventure']\",\n",
       "       \"['thriller']\", \"['drama', 'comedy']\", \"['thriller', 'mystery']\",\n",
       "       \"['romance', 'fantasy']\", \"['mystery', 'horror', 'comedy']\",\n",
       "       \"['romance', 'drama']\", \"['romance', 'comedy']\",\n",
       "       \"['crime', 'drama']\", \"['musical']\", \"['drama', 'war']\",\n",
       "       \"['horror', 'comedy']\", \"['musical', 'comedy']\",\n",
       "       \"['drama', 'western']\", \"['drama', 'thriller']\",\n",
       "       \"['sci-fi', 'horror']\", \"['crime', 'mystery']\",\n",
       "       \"['musical', 'drama']\", \"['drama', 'mystery']\", \"['animation']\",\n",
       "       \"['sci-fi']\", \"['crime', 'comedy']\", \"['drama', 'sport']\",\n",
       "       \"['thriller', 'adventure']\", \"['crime', 'horror']\",\n",
       "       \"['fantasy', 'comedy']\", \"['mystery', 'comedy']\",\n",
       "       \"['musical', 'drama', 'comedy']\", \"['horror', 'mystery']\",\n",
       "       \"['crime', 'drama', 'comedy']\", \"['drama', 'biography']\",\n",
       "       \"['drama', 'action']\", \"['action', 'adventure']\",\n",
       "       \"['sci-fi', 'drama']\", \"['musical', 'western']\",\n",
       "       \"['romance', 'adventure']\", \"['western', 'war']\",\n",
       "       \"['action', 'western']\", \"['drama', 'action', 'war']\",\n",
       "       \"['drama', 'fantasy']\", \"['romance', 'western']\",\n",
       "       \"['musical', 'adventure']\", \"['crime', 'sci-fi']\", \"['family']\",\n",
       "       \"['biography', 'war']\", \"['romance', 'war']\",\n",
       "       \"['musical', 'horror']\", \"['crime', 'adventure']\",\n",
       "       \"['western', 'biography']\", \"['crime', 'biography']\",\n",
       "       \"['drama', 'family']\", \"['western', 'family']\",\n",
       "       \"['musical', 'biography']\", \"['biography', 'comedy']\",\n",
       "       \"['crime', 'western']\", \"['action', 'comedy']\",\n",
       "       \"['musical', 'fantasy']\", \"['musical', 'family']\",\n",
       "       \"['family', 'comedy']\", \"['western', 'horror']\",\n",
       "       \"['western', 'mystery']\", \"['sport', 'biography']\",\n",
       "       \"['war', 'comedy']\", \"['action', 'war']\", \"['action', 'horror']\",\n",
       "       \"['sci-fi', 'comedy']\", \"['sci-fi', 'action']\",\n",
       "       \"['sport', 'comedy']\", \"['fantasy', 'horror']\",\n",
       "       \"['action', 'biography']\", \"['family', 'adventure']\",\n",
       "       \"['fantasy', 'thriller']\", \"['family', 'animation']\",\n",
       "       \"['fantasy', 'action']\", \"['thriller', 'comedy']\",\n",
       "       \"['crime', 'thriller']\", \"['thriller', 'horror']\",\n",
       "       \"['action', 'family']\", \"['crime', 'romance']\",\n",
       "       \"['biography', 'adventure']\", \"['sci-fi', 'adventure']\",\n",
       "       \"['sci-fi', 'family']\", \"['sci-fi', 'thriller']\",\n",
       "       \"['crime', 'drama', 'biography']\", \"['mystery', 'family']\",\n",
       "       \"['fantasy', 'sport']\", \"['sci-fi', 'fantasy', 'action']\",\n",
       "       \"['sci-fi', 'drama', 'family', 'animation']\",\n",
       "       \"['musical', 'comedy', 'animation']\",\n",
       "       \"['drama', 'sport', 'comedy']\", \"['adventure', 'animation']\",\n",
       "       \"['fantasy', 'animation']\", \"['horror', 'war']\",\n",
       "       \"['action', 'thriller']\", \"['romance', 'drama', 'mystery']\",\n",
       "       \"['romance', 'musical']\", \"['action', 'animation']\",\n",
       "       \"['action', 'history']\", \"['crime', 'family']\",\n",
       "       \"['comedy', 'animation']\", \"['musical', 'animation']\",\n",
       "       \"['action', 'horror', 'comedy']\",\n",
       "       \"['drama', 'family', 'comedy', 'adventure']\",\n",
       "       \"['biography', 'western']\", \"['sport', 'family']\",\n",
       "       \"['musical', 'thriller']\", \"['sci-fi', 'fantasy']\",\n",
       "       \"['mystery', 'adventure']\", \"['biography', 'horror']\",\n",
       "       \"['sci-fi', 'war']\", \"['drama', 'family', 'comedy']\",\n",
       "       \"['mystery', 'horror']\", \"['biography', 'thriller']\",\n",
       "       \"['fantasy', 'action', 'family']\",\n",
       "       \"['fantasy', 'comedy', 'adventure']\",\n",
       "       \"['romance', 'thriller', 'sci-fi']\", \"['fantasy', 'drama']\",\n",
       "       \"['action', 'mystery']\", \"['sci-fi', 'action', 'horror']\",\n",
       "       \"['family', 'comedy', 'adventure']\", \"['romance', 'sci-fi']\",\n",
       "       \"['comedy', 'documentary']\", \"['musical', 'documentary']\",\n",
       "       \"['thriller', 'western']\", \"['family', 'documentary']\",\n",
       "       \"['sci-fi', 'adventure', 'animation']\",\n",
       "       \"['drama', 'thriller', 'horror']\",\n",
       "       \"['crime', 'drama', 'thriller']\",\n",
       "       \"['sci-fi', 'action', 'horror', 'adventure']\",\n",
       "       \"['sci-fi', 'romance', 'adventure']\",\n",
       "       \"['action', 'comedy', 'animation']\",\n",
       "       \"['crime', 'drama', 'action']\", \"['drama', 'action', 'adventure']\",\n",
       "       \"['sci-fi', 'fantasy', 'action', 'adventure']\",\n",
       "       \"['romance', 'drama', 'fantasy', 'adventure', 'musical']\",\n",
       "       \"['action', 'thriller', 'horror']\",\n",
       "       \"['crime', 'action', 'sci-fi', 'adventure']\",\n",
       "       \"['romance', 'drama', 'sci-fi']\",\n",
       "       \"['fantasy', 'family', 'comedy', 'animation']\",\n",
       "       \"['sci-fi', 'comedy', 'animation']\",\n",
       "       \"['sci-fi', 'drama', 'thriller']\",\n",
       "       \"['sci-fi', 'comedy', 'adventure']\",\n",
       "       \"['fantasy', 'action', 'comedy', 'adventure']\",\n",
       "       \"['drama', 'war', 'comedy']\",\n",
       "       \"['drama', 'fantasy', 'adventure', 'action', 'war']\",\n",
       "       \"['action', 'family', 'comedy', 'animation']\",\n",
       "       \"['romance', 'drama', 'comedy']\",\n",
       "       \"['fantasy', 'action', 'horror', 'adventure']\",\n",
       "       \"['drama', 'sport', 'comedy', 'animation']\",\n",
       "       \"['sci-fi', 'action', 'adventure']\",\n",
       "       \"['romance', 'thriller', 'horror']\",\n",
       "       \"['crime', 'action', 'comedy']\",\n",
       "       \"['drama', 'action', 'fantasy', 'adventure']\",\n",
       "       \"['action', 'comedy', 'adventure', 'animation']\",\n",
       "       \"['romance', 'drama', 'horror', 'fantasy']\",\n",
       "       \"['sci-fi', 'action', 'comedy', 'adventure']\",\n",
       "       \"['sci-fi', 'drama', 'action', 'adventure']\",\n",
       "       \"['thriller', 'action']\", \"['comedy', 'adventure', 'animation']\",\n",
       "       \"['western', 'fantasy', 'horror', 'sci-fi', 'adventure', 'action']\",\n",
       "       \"['sci-fi', 'thriller', 'action']\",\n",
       "       \"['fantasy', 'horror', 'drama']\",\n",
       "       \"['action', 'comedy', 'adventure']\",\n",
       "       \"['drama', 'sport', 'biography', 'comedy']\",\n",
       "       \"['crime', 'drama', 'thriller', 'comedy', 'history', 'action', 'biography']\",\n",
       "       \"['sci-fi', 'drama', 'horror']\",\n",
       "       \"['sci-fi', 'thriller', 'mystery']\",\n",
       "       \"['fantasy', 'comedy', 'adventure', 'animation', 'musical', 'family']\",\n",
       "       \"['drama', 'action', 'thriller']\",\n",
       "       \"['thriller', 'mystery', 'horror']\",\n",
       "       \"['drama', 'biography', 'thriller']\",\n",
       "       \"['sci-fi', 'action', 'thriller']\",\n",
       "       \"['drama', 'action', 'biography']\",\n",
       "       \"['drama', 'thriller', 'mystery', 'horror', 'comedy']\",\n",
       "       \"['drama', 'biography', 'war']\",\n",
       "       \"['crime', 'drama', 'thriller', 'mystery', 'comedy']\",\n",
       "       \"['crime', 'thriller', 'mystery', 'horror']\",\n",
       "       \"['fantasy', 'comedy', 'sci-fi', 'adventure', 'action']\",\n",
       "       \"['crime', 'drama', 'mystery']\",\n",
       "       \"['crime', 'drama', 'thriller', 'comedy']\",\n",
       "       \"['musical', 'mystery', 'fantasy', 'animation']\",\n",
       "       \"['drama', 'biography', 'comedy']\",\n",
       "       \"['romance', 'thriller', 'fantasy', 'horror', 'sci-fi']\",\n",
       "       \"['family', 'comedy', 'adventure', 'animation']\",\n",
       "       \"['musical', 'biography', 'drama']\",\n",
       "       \"['sci-fi', 'drama', 'comedy']\",\n",
       "       \"['drama', 'biography', 'thriller', 'history']\",\n",
       "       \"['drama', 'war', 'history']\", \"['drama', 'family', 'adventure']\",\n",
       "       \"['drama', 'history']\",\n",
       "       \"['drama', 'action', 'comedy', 'animation']\",\n",
       "       \"['romance', 'drama', 'biography']\",\n",
       "       \"['musical', 'comedy', 'fantasy']\",\n",
       "       \"['crime', 'drama', 'adventure']\",\n",
       "       \"['drama', 'western', 'adventure']\",\n",
       "       \"['drama', 'adventure', 'history']\", \"['horror', 'documentary']\",\n",
       "       \"['romance', 'action']\", \"['crime', 'war']\",\n",
       "       \"['sci-fi', 'musical']\", \"['crime', 'drama', 'horror']\",\n",
       "       \"['war', 'adventure']\", \"['thriller', 'war']\",\n",
       "       \"['horror', 'adventure']\", \"['romance', 'musical', 'drama']\",\n",
       "       \"['romance', 'thriller']\", \"['sci-fi', 'romance']\",\n",
       "       \"['drama', 'thriller', 'mystery']\",\n",
       "       \"['romance', 'action', 'thriller']\",\n",
       "       \"['romance', 'fantasy', 'drama']\",\n",
       "       \"['romance', 'fantasy', 'action']\",\n",
       "       \"['drama', 'biography', 'action']\",\n",
       "       \"['romance', 'drama', 'action']\", \"['action', 'war', 'history']\",\n",
       "       \"['drama', 'action', 'comedy']\", \"['action', 'mystery', 'comedy']\",\n",
       "       \"['fantasy', 'comedy', 'adventure', 'animation']\",\n",
       "       \"['family', 'adventure', 'animation']\",\n",
       "       \"['fantasy', 'drama', 'comedy']\",\n",
       "       \"['drama', 'action', 'war', 'comedy']\",\n",
       "       \"['drama', 'action', 'mystery']\", \"['crime', 'action', 'mystery']\",\n",
       "       \"['crime', 'action', 'thriller']\",\n",
       "       \"['action', 'thriller', 'adventure']\",\n",
       "       \"['crime', 'drama', 'western']\",\n",
       "       \"['fantasy', 'action', 'mystery']\",\n",
       "       \"['crime', 'drama', 'thriller', 'mystery', 'action']\",\n",
       "       \"['drama', 'comedy', 'adventure', 'animation', 'family']\",\n",
       "       \"['romance', 'fantasy', 'comedy']\",\n",
       "       \"['fantasy', 'action', 'comedy']\",\n",
       "       \"['romance', 'drama', 'history']\",\n",
       "       \"['fantasy', 'adventure', 'animation']\",\n",
       "       \"['romance', 'drama', 'crime', 'mystery']\",\n",
       "       \"['romance', 'fantasy', 'adventure', 'animation']\",\n",
       "       \"['romance', 'action', 'history']\",\n",
       "       \"['fantasy', 'action', 'adventure', 'animation']\",\n",
       "       \"['romance', 'thriller', 'comedy', 'adventure']\",\n",
       "       \"['action', 'war', 'adventure']\",\n",
       "       \"['action', 'adventure', 'animation']\",\n",
       "       \"['fantasy', 'action', 'comedy', 'animation']\",\n",
       "       \"['sci-fi', 'action', 'comedy', 'animation']\",\n",
       "       \"['drama', 'action', 'history']\", \"['war', 'history']\",\n",
       "       \"['crime', 'action', 'mystery', 'comedy']\",\n",
       "       \"['drama', 'action', 'adventure', 'fantasy']\",\n",
       "       \"['fantasy', 'comedy', 'adventure', 'history']\",\n",
       "       \"['fantasy', 'comedy', 'animation']\",\n",
       "       \"['sci-fi', 'drama', 'adventure']\",\n",
       "       \"['action', 'mystery', 'comedy', 'adventure']\", \"['history']\",\n",
       "       \"['romance', 'drama', 'family']\",\n",
       "       \"['drama', 'fantasy', 'animation']\",\n",
       "       \"['drama', 'action', 'fantasy']\",\n",
       "       \"['crime', 'action', 'adventure']\",\n",
       "       \"['crime', 'drama', 'action', 'thriller']\",\n",
       "       \"['drama', 'comedy', 'fantasy', 'history']\",\n",
       "       \"['crime', 'drama', 'thriller', 'horror']\",\n",
       "       \"['action', 'war', 'biography', 'history']\",\n",
       "       \"['fantasy', 'action', 'history']\",\n",
       "       \"['drama', 'western', 'history']\", \"['sci-fi', 'drama', 'action']\",\n",
       "       \"['drama', 'thriller', 'fantasy', 'history']\",\n",
       "       \"['romance', 'fantasy', 'horror']\",\n",
       "       \"['crime', 'drama', 'comedy', 'adventure', 'action']\",\n",
       "       \"['action', 'thriller', 'comedy']\",\n",
       "       \"['romance', 'horror', 'comedy']\",\n",
       "       \"['romance', 'action', 'comedy']\",\n",
       "       \"['action', 'biography', 'history']\", \"['drama', 'documentary']\",\n",
       "       \"['romance', 'musical', 'comedy']\",\n",
       "       \"['fantasy', 'horror', 'adventure']\",\n",
       "       \"['romance', 'drama', 'thriller']\", \"['romance', 'horror']\",\n",
       "       \"['musical', 'drama', 'romance']\",\n",
       "       \"['musical', 'fantasy', 'romance']\", \"['musical', 'action']\",\n",
       "       \"['musical', 'drama', 'family', 'comedy']\",\n",
       "       \"['drama', 'action', 'family', 'comedy']\",\n",
       "       \"['musical', 'drama', 'romance', 'family']\",\n",
       "       \"['drama', 'action', 'family']\",\n",
       "       \"['romance', 'action', 'family', 'adventure']\",\n",
       "       \"['crime', 'drama', 'action', 'romance']\",\n",
       "       \"['romance', 'drama', 'comedy', 'musical', 'action']\",\n",
       "       \"['romance', 'thriller', 'mystery']\",\n",
       "       \"['crime', 'drama', 'romance']\", \"['musical', 'action', 'family']\",\n",
       "       \"['crime', 'romance', 'thriller', 'adventure', 'musical']\",\n",
       "       \"['drama', 'thriller', 'family']\",\n",
       "       \"['crime', 'action', 'romance']\",\n",
       "       \"['crime', 'drama', 'romance', 'comedy', 'family']\",\n",
       "       \"['crime', 'drama', 'romance', 'comedy', 'action']\",\n",
       "       \"['romance', 'drama', 'musical', 'action', 'family']\",\n",
       "       \"['crime', 'drama', 'action', 'adventure']\",\n",
       "       \"['crime', 'drama', 'family']\", \"['crime', 'musical', 'action']\",\n",
       "       \"['drama', 'horror', 'comedy']\",\n",
       "       \"['crime', 'drama', 'action', 'comedy']\",\n",
       "       \"['romance', 'drama', 'adventure', 'action', 'family']\",\n",
       "       \"['romance', 'action', 'adventure']\",\n",
       "       \"['romance', 'musical', 'family']\",\n",
       "       \"['fantasy', 'action', 'adventure']\",\n",
       "       \"['romance', 'drama', 'action', 'comedy']\",\n",
       "       \"['drama', 'adventure', 'musical', 'action', 'family']\",\n",
       "       \"['romance', 'musical', 'family', 'comedy']\",\n",
       "       \"['romance', 'sport']\", \"['romance', 'drama', 'family', 'comedy']\",\n",
       "       \"['crime', 'drama', 'action', 'family']\",\n",
       "       \"['crime', 'romance', 'adventure']\",\n",
       "       \"['drama', 'action', 'horror']\",\n",
       "       \"['thriller', 'mystery', 'adventure']\",\n",
       "       \"['musical', 'drama', 'family']\",\n",
       "       \"['drama', 'fantasy', 'comedy', 'sci-fi', 'adventure', 'musical', 'action']\",\n",
       "       \"['crime', 'drama', 'romance', 'action', 'family']\",\n",
       "       \"['crime', 'drama', 'adventure', 'action', 'family']\",\n",
       "       \"['drama', 'action', 'thriller', 'horror']\",\n",
       "       \"['crime', 'action', 'horror']\",\n",
       "       \"['crime', 'action', 'thriller', 'romance']\",\n",
       "       \"['crime', 'drama', 'action', 'horror']\",\n",
       "       \"['romance', 'drama', 'action', 'family']\",\n",
       "       \"['musical', 'drama', 'action', 'romance']\",\n",
       "       \"['romance', 'drama', 'action', 'fantasy']\",\n",
       "       \"['drama', 'thriller', 'comedy']\",\n",
       "       \"['sci-fi', 'crime', 'thriller']\",\n",
       "       \"['drama', 'thriller', 'family', 'fantasy']\",\n",
       "       \"['romance', 'crime']\", \"['crime', 'drama', 'romance', 'family']\",\n",
       "       \"['romance', 'drama', 'musical']\", \"['drama', 'thriller', 'war']\",\n",
       "       \"['romance', 'drama', 'family', 'musical']\",\n",
       "       \"['romance', 'drama', 'comedy', 'musical']\",\n",
       "       \"['romance', 'thriller', 'action']\",\n",
       "       \"['romance', 'drama', 'action', 'war']\",\n",
       "       \"['romance', 'drama', 'crime', 'musical']\",\n",
       "       \"['romance', 'musical', 'thriller']\",\n",
       "       \"['romance', 'musical', 'thriller', 'horror']\",\n",
       "       \"['romance', 'drama', 'action', 'thriller']\",\n",
       "       \"['romance', 'drama', 'comedy', 'musical', 'family']\",\n",
       "       \"['romance', 'fantasy', 'musical']\",\n",
       "       \"['musical', 'action', 'drama', 'comedy']\",\n",
       "       \"['romance', 'drama', 'crime']\", \"['romance', 'sport', 'action']\",\n",
       "       \"['romance', 'musical', 'thriller', 'action']\",\n",
       "       \"['drama', 'thriller', 'action']\",\n",
       "       \"['romance', 'drama', 'thriller', 'musical']\",\n",
       "       \"['romance', 'fantasy', 'action', 'musical']\",\n",
       "       \"['drama', 'sport', 'family']\",\n",
       "       \"['thriller', 'mystery', 'comedy']\",\n",
       "       \"['romance', 'drama', 'action', 'crime']\",\n",
       "       \"['romance', 'musical', 'action', 'comedy']\",\n",
       "       \"['romance', 'history']\",\n",
       "       \"['crime', 'drama', 'thriller', 'romance', 'action']\",\n",
       "       \"['drama', 'comedy', 'fantasy']\",\n",
       "       \"['crime', 'action', 'comedy', 'romance']\",\n",
       "       \"['romance', 'thriller', 'mystery', 'horror']\",\n",
       "       \"['romance', 'family', 'animation']\",\n",
       "       \"['romance', 'musical', 'family', 'drama']\",\n",
       "       \"['romance', 'drama', 'thriller', 'mystery', 'action']\",\n",
       "       \"['crime', 'romance', 'comedy']\",\n",
       "       \"['romance', 'crime', 'action', 'thriller']\",\n",
       "       \"['romance', 'drama', 'thriller', 'comedy', 'action']\",\n",
       "       \"['horror', 'family']\", \"['thriller', 'family']\",\n",
       "       \"['romance', 'family']\", \"['drama', 'fantasy', 'comedy']\",\n",
       "       \"['romance', 'thriller', 'comedy']\",\n",
       "       \"['drama', 'thriller', 'adventure']\",\n",
       "       \"['sci-fi', 'romance', 'thriller']\",\n",
       "       \"['sci-fi', 'fantasy', 'horror']\", \"['sci-fi', 'mystery']\",\n",
       "       \"['drama', 'thriller', 'horror', 'fantasy']\",\n",
       "       \"['sci-fi', 'fantasy', 'drama']\",\n",
       "       \"['fantasy', 'thriller', 'mystery', 'drama']\",\n",
       "       \"['sci-fi', 'drama', 'action', 'comedy']\",\n",
       "       \"['crime', 'drama', 'thriller', 'mystery']\",\n",
       "       \"['sci-fi', 'drama', 'action', 'horror']\",\n",
       "       \"['fantasy', 'action', 'horror', 'drama']\",\n",
       "       \"['romance', 'fantasy', 'drama', 'sci-fi']\",\n",
       "       \"['drama', 'fantasy', 'action', 'comedy']\",\n",
       "       \"['fantasy', 'action', 'drama']\",\n",
       "       \"['crime', 'drama', 'action', 'sci-fi']\",\n",
       "       \"['thriller', 'horror', 'action']\",\n",
       "       \"['fantasy', 'action', 'drama', 'comedy']\",\n",
       "       \"['fantasy', 'mystery', 'drama', 'comedy']\",\n",
       "       \"['fantasy', 'thriller', 'comedy']\",\n",
       "       \"['romance', 'drama', 'comedy', 'fantasy']\",\n",
       "       \"['musical', 'drama', 'mystery', 'comedy']\",\n",
       "       \"['sci-fi', 'drama', 'fantasy']\",\n",
       "       \"['fantasy', 'action', 'horror']\",\n",
       "       \"['drama', 'fantasy', 'mystery', 'adventure', 'action']\",\n",
       "       \"['sci-fi', 'action', 'comedy']\",\n",
       "       \"['drama', 'thriller', 'mystery', 'sci-fi', 'action']\",\n",
       "       \"['drama', 'action', 'sport']\",\n",
       "       \"['crime', 'drama', 'thriller', 'sci-fi', 'action']\",\n",
       "       \"['musical', 'fantasy', 'romance', 'drama']\",\n",
       "       \"['sci-fi', 'fantasy', 'drama', 'adventure']\",\n",
       "       \"['fantasy', 'history']\", \"['romance', 'fantasy', 'adventure']\"],\n",
       "      dtype=object)"
      ]
     },
     "execution_count": 9,
     "metadata": {},
     "output_type": "execute_result"
    }
   ],
   "source": [
    "df['genre_list'].unique()"
   ]
  },
  {
   "cell_type": "code",
   "execution_count": 16,
   "metadata": {},
   "outputs": [],
   "source": [
    "df = df[df['genre_list']!=\"[]\"]"
   ]
  },
  {
   "cell_type": "markdown",
   "metadata": {},
   "source": [
    "## 2. Feature Engineering"
   ]
  },
  {
   "cell_type": "code",
   "execution_count": 17,
   "metadata": {},
   "outputs": [
    {
     "name": "stdout",
     "output_type": "stream",
     "text": [
      "TF-IDF features shape: (26808, 5000)\n"
     ]
    }
   ],
   "source": [
    "# Create TF-IDF features from plot descriptions\n",
    "tfidf = TfidfVectorizer(\n",
    "    max_features=5000,         # limit features for performance\n",
    "    stop_words='english',      # remove common English stopwords\n",
    "    ngram_range=(1, 2),        # unigrams and bigrams\n",
    "    min_df=5,                  # ignore terms that appear in <5 documents\n",
    "    max_df=0.8,                # ignore very frequent terms\n",
    "    strip_accents='unicode',   # normalize accents\n",
    "    sublinear_tf=True          # apply sublinear tf scaling\n",
    ")\n",
    "\n",
    "# Transform the plot_lemmatized column\n",
    "X_plot = tfidf.fit_transform(df['plot_lemmatized'])\n",
    "print(f\"TF-IDF features shape: {X_plot.shape}\")"
   ]
  },
  {
   "cell_type": "code",
   "execution_count": null,
   "metadata": {},
   "outputs": [],
   "source": []
  },
  {
   "cell_type": "code",
   "execution_count": 18,
   "metadata": {},
   "outputs": [
    {
     "name": "stdout",
     "output_type": "stream",
     "text": [
      "Target shape: (26808, 27)\n",
      "Genre classes: [' ' \"'\" ',' '-' '[' ']' 'a' 'b' 'c' 'd' 'e' 'f' 'g' 'h' 'i' 'l' 'm' 'n'\n",
      " 'o' 'p' 'r' 's' 't' 'u' 'v' 'w' 'y']\n"
     ]
    }
   ],
   "source": [
    "# Prepare the target variable (genre)\n",
    "# Convert genre lists to binary format\n",
    "mlb_genre = MultiLabelBinarizer()\n",
    "y = mlb_genre.fit_transform(df['genre_list'])\n",
    "print(f\"Target shape: {y.shape}\")\n",
    "print(f\"Genre classes: {mlb_genre.classes_}\")"
   ]
  },
  {
   "cell_type": "code",
   "execution_count": null,
   "metadata": {},
   "outputs": [
    {
     "data": {
      "text/plain": [
       "array([[0, 1, 0, ..., 0, 1, 0],\n",
       "       [0, 1, 0, ..., 0, 0, 1],\n",
       "       [1, 1, 1, ..., 0, 0, 0],\n",
       "       ...,\n",
       "       [0, 1, 0, ..., 0, 0, 1],\n",
       "       [0, 1, 0, ..., 0, 0, 1],\n",
       "       [0, 1, 0, ..., 0, 0, 1]])"
      ]
     },
     "execution_count": 19,
     "metadata": {},
     "output_type": "execute_result"
    }
   ],
   "source": []
  },
  {
   "cell_type": "code",
   "execution_count": 20,
   "metadata": {},
   "outputs": [
    {
     "name": "stdout",
     "output_type": "stream",
     "text": [
      "Location features shape: (26808, 24)\n"
     ]
    }
   ],
   "source": [
    "# Add location features\n",
    "X_location = pd.get_dummies(df['Origin/Ethnicity'], prefix='loc')\n",
    "print(f\"Location features shape: {X_location.shape}\")"
   ]
  },
  {
   "cell_type": "code",
   "execution_count": 21,
   "metadata": {},
   "outputs": [
    {
     "name": "stdout",
     "output_type": "stream",
     "text": [
      "Combined features shape: (26808, 5024)\n"
     ]
    }
   ],
   "source": [
    "# Combine all features\n",
    "X_combined = hstack([X_plot, csr_matrix(X_location.values)])\n",
    "print(f\"Combined features shape: {X_combined.shape}\")"
   ]
  },
  {
   "cell_type": "markdown",
   "metadata": {},
   "source": [
    "## 3. Feature Selection"
   ]
  },
  {
   "cell_type": "code",
   "execution_count": 22,
   "metadata": {},
   "outputs": [
    {
     "name": "stdout",
     "output_type": "stream",
     "text": [
      "Selected features shape: (26808, 2000)\n"
     ]
    }
   ],
   "source": [
    "# Select top features based on chi-squared scores\n",
    "k = 2000  # Number of top features to select\n",
    "selector = SelectKBest(chi2, k=k)\n",
    "X_selected = selector.fit_transform(X_combined, y)\n",
    "print(f\"Selected features shape: {X_selected.shape}\")"
   ]
  },
  {
   "cell_type": "markdown",
   "metadata": {},
   "source": [
    "## 4. Initialize the ModelEvaluator"
   ]
  },
  {
   "cell_type": "code",
   "execution_count": 23,
   "metadata": {},
   "outputs": [],
   "source": [
    "# Create an instance of ModelEvaluator\n",
    "evaluator = ModelEvaluator(random_state=42)"
   ]
  },
  {
   "cell_type": "code",
   "execution_count": 24,
   "metadata": {},
   "outputs": [
    {
     "data": {
      "text/plain": [
       "<model_evaluator.ModelEvaluator at 0x1f76495e8d0>"
      ]
     },
     "execution_count": 24,
     "metadata": {},
     "output_type": "execute_result"
    }
   ],
   "source": [
    "# Add basic models\n",
    "evaluator.add_basic_models()"
   ]
  },
  {
   "cell_type": "code",
   "execution_count": 25,
   "metadata": {},
   "outputs": [
    {
     "data": {
      "text/plain": [
       "<model_evaluator.ModelEvaluator at 0x1f76495e8d0>"
      ]
     },
     "execution_count": 25,
     "metadata": {},
     "output_type": "execute_result"
    }
   ],
   "source": [
    "# Add intermediate models\n",
    "evaluator.add_intermediate_models()"
   ]
  },
  {
   "cell_type": "code",
   "execution_count": 26,
   "metadata": {},
   "outputs": [
    {
     "data": {
      "text/plain": [
       "<model_evaluator.ModelEvaluator at 0x1f76495e8d0>"
      ]
     },
     "execution_count": 26,
     "metadata": {},
     "output_type": "execute_result"
    }
   ],
   "source": [
    "# Add advanced models\n",
    "evaluator.add_advanced_models()"
   ]
  },
  {
   "cell_type": "markdown",
   "metadata": {},
   "source": [
    "## 5. Evaluate All Models"
   ]
  },
  {
   "cell_type": "code",
   "execution_count": 27,
   "metadata": {},
   "outputs": [],
   "source": [
    "# Get feature names (for feature importance plots)\n",
    "# Combine TF-IDF feature names and location feature names\n",
    "tfidf_feature_names = tfidf.get_feature_names_out()\n",
    "location_feature_names = X_location.columns.tolist()\n",
    "all_feature_names = list(tfidf_feature_names) + location_feature_names\n",
    "\n",
    "# Get selected feature names\n",
    "selected_indices = selector.get_support(indices=True)\n",
    "selected_feature_names = [all_feature_names[i] for i in selected_indices]"
   ]
  },
  {
   "cell_type": "code",
   "execution_count": 28,
   "metadata": {},
   "outputs": [
    {
     "name": "stdout",
     "output_type": "stream",
     "text": [
      "Evaluation complete. Best model: Neural Network MLP (F1-micro: 0.8003)\n"
     ]
    },
    {
     "data": {
      "text/plain": [
       "<model_evaluator.ModelEvaluator at 0x1f76495e8d0>"
      ]
     },
     "execution_count": 28,
     "metadata": {},
     "output_type": "execute_result"
    }
   ],
   "source": [
    "# Evaluate all models\n",
    "evaluator.evaluate_models(\n",
    "    X=X_selected, \n",
    "    y=y, \n",
    "    test_size=0.2, \n",
    "    feature_names=selected_feature_names,\n",
    "    target_names=mlb_genre.classes_\n",
    ")"
   ]
  },
  {
   "cell_type": "markdown",
   "metadata": {},
   "source": [
    "## 6. Analyze Results"
   ]
  },
  {
   "cell_type": "code",
   "execution_count": 29,
   "metadata": {},
   "outputs": [
    {
     "name": "stdout",
     "output_type": "stream",
     "text": [
      "Model Performance Summary:\n",
      "                     Model  F1-micro  F1-macro  F1-weighted  Hamming Loss\n",
      "0       Neural Network MLP  0.800267  0.540225     0.779576      0.130051\n",
      "1      Logistic Regression  0.797996  0.498653     0.768947      0.130638\n",
      "2               Linear SVM  0.795979  0.531052     0.774222      0.133028\n",
      "3                 LightGBM  0.793823  0.509611     0.766226      0.133815\n",
      "4                  XGBoost  0.785183  0.511806     0.760346      0.140122\n",
      "5            Random Forest  0.779070  0.433729     0.734787      0.140895\n",
      "6  Multinomial Naive Bayes  0.777485  0.467397     0.743205      0.143272\n",
      "7        Gradient Boosting  0.773327  0.460794     0.732920      0.146470\n",
      "8            Decision Tree  0.709461  0.467272     0.708556      0.197273\n"
     ]
    }
   ],
   "source": [
    "# Print summary of all models\n",
    "summary = evaluator.print_summary()"
   ]
  },
  {
   "cell_type": "markdown",
   "metadata": {},
   "source": [
    "## 7. Save Models to Disk"
   ]
  },
  {
   "cell_type": "code",
   "execution_count": 37,
   "metadata": {},
   "outputs": [],
   "source": [
    "# Import the ModelSaver class\n",
    "from model_saver import ModelSaver"
   ]
  },
  {
   "cell_type": "code",
   "execution_count": 38,
   "metadata": {},
   "outputs": [],
   "source": [
    "# Create a ModelSaver instance\n",
    "saver = ModelSaver(base_dir='saved_models')"
   ]
  },
  {
   "cell_type": "code",
   "execution_count": 39,
   "metadata": {},
   "outputs": [
    {
     "name": "stdout",
     "output_type": "stream",
     "text": [
      "Model Performance Summary:\n",
      "                     Model  F1-micro  F1-macro  F1-weighted  Hamming Loss\n",
      "0       Neural Network MLP  0.800267  0.540225     0.779576      0.130051\n",
      "1      Logistic Regression  0.797996  0.498653     0.768947      0.130638\n",
      "2               Linear SVM  0.795979  0.531052     0.774222      0.133028\n",
      "3                 LightGBM  0.793823  0.509611     0.766226      0.133815\n",
      "4                  XGBoost  0.785183  0.511806     0.760346      0.140122\n",
      "5            Random Forest  0.779070  0.433729     0.734787      0.140895\n",
      "6  Multinomial Naive Bayes  0.777485  0.467397     0.743205      0.143272\n",
      "7        Gradient Boosting  0.773327  0.460794     0.732920      0.146470\n",
      "8            Decision Tree  0.709461  0.467272     0.708556      0.197273\n",
      "All models saved successfully to saved_models\\movie_genre_prediction_20250520_224334\n"
     ]
    }
   ],
   "source": [
    "# Save all models\n",
    "save_info = saver.save_all_models(\n",
    "    evaluator=evaluator,\n",
    "    dataset_name='movie_genre_prediction',\n",
    "    include_data=False  # Set to True if you want to save the dataset as well\n",
    ")"
   ]
  },
  {
   "cell_type": "code",
   "execution_count": 40,
   "metadata": {},
   "outputs": [
    {
     "name": "stdout",
     "output_type": "stream",
     "text": [
      "Best model (Neural Network MLP) saved successfully to saved_models\\movie_genre_prediction_best_20250520_225444\n"
     ]
    }
   ],
   "source": [
    "# Alternatively, save only the best model\n",
    "best_model_info = saver.save_best_model(\n",
    "    evaluator=evaluator,\n",
    "    dataset_name='movie_genre_prediction'\n",
    ")"
   ]
  },
  {
   "cell_type": "markdown",
   "metadata": {},
   "source": [
    "## 8. Load and Use Saved Models"
   ]
  },
  {
   "cell_type": "markdown",
   "metadata": {},
   "source": [
    "### 8.1 Loading a Single Model"
   ]
  },
  {
   "cell_type": "code",
   "execution_count": null,
   "metadata": {},
   "outputs": [],
   "source": [
    "# Example of loading a saved model\n",
    "# Replace with the actual path from the save_info output\n",
    "model_path = save_info['models']['Neural Network MLP']['model_path']\n",
    "loaded_model = saver.load_model(model_path)\n",
    "\n",
    "# Now you can use the loaded model for predictions\n",
    "# Example:\n",
    "# new_data = ...\n",
    "# predictions = loaded_model.predict(new_data)"
   ]
  },
  {
   "cell_type": "markdown",
   "metadata": {},
   "source": [
    "### 8.2 Loading All Models into a ModelEvaluator"
   ]
  },
  {
   "cell_type": "code",
   "execution_count": null,
   "metadata": {},
   "outputs": [],
   "source": [
    "# Find all saved model directories\n",
    "\n",
    "saved_dirs = saver.find_saved_models()\n",
    "print(f\"Found {len(saved_dirs)} saved model directories:\")\n",
    "for i, info in enumerate(saved_dirs):\n",
    "    model_type = \"Best model only\" if info['is_best_only'] else f\"{info['model_count']} models\"\n",
    "    print(f\"{i+1}. {info['name']} ({model_type}) - {info['timestamp']}\")"
   ]
  },
  {
   "cell_type": "code",
   "execution_count": 52,
   "metadata": {},
   "outputs": [],
   "source": [
    "del saver"
   ]
  },
  {
   "cell_type": "code",
   "execution_count": 54,
   "metadata": {},
   "outputs": [],
   "source": [
    "from model_saver import ModelSaver\n",
    "saver = ModelSaver(base_dir='saved_models')"
   ]
  },
  {
   "cell_type": "code",
   "execution_count": null,
   "metadata": {},
   "outputs": [],
   "source": [
    "# Load models from the directory we just created\n",
    "\n",
    "save_dir = save_info['base_directory']\n",
    "loaded_evaluator = saver.load_models_into_evaluator(save_dir)\n",
    "\n",
    "# Print summary of loaded models\n",
    "loaded_summary = loaded_evaluator.print_summary()"
   ]
  },
  {
   "cell_type": "code",
   "execution_count": null,
   "metadata": {},
   "outputs": [],
   "source": [
    "# Compare the original and loaded evaluator summaries\n",
    "print(\"Original evaluator summary:\")\n",
    "print(summary)\n",
    "print(\"\\nLoaded evaluator summary:\")\n",
    "print(loaded_summary)"
   ]
  },
  {
   "cell_type": "code",
   "execution_count": null,
   "metadata": {},
   "outputs": [],
   "source": [
    "# Visualize the loaded models' performance\n",
    "loaded_evaluator.plot_model_comparison()"
   ]
  },
  {
   "cell_type": "code",
   "execution_count": null,
   "metadata": {},
   "outputs": [],
   "source": [
    "# Get the best model from the loaded evaluator\n",
    "best_model = loaded_evaluator.best_model\n",
    "print(f\"Best model: {loaded_evaluator.best_model_name}\")\n",
    "print(f\"Best score: {loaded_evaluator.best_score:.4f}\")\n",
    "\n",
    "# You can now use this model for predictions\n",
    "# Example:\n",
    "# predictions = best_model.predict(new_data)"
   ]
  },
  {
   "cell_type": "code",
   "execution_count": 30,
   "metadata": {},
   "outputs": [
    {
     "data": {
      "image/png": "[encoded data removed]",
      "text/plain": [
       "<Figure size 1200x600 with 1 Axes>"
      ]
     },
     "metadata": {},
     "output_type": "display_data"
    }
   ],
   "source": [
    "# Plot model comparison by F1-micro score\n",
    "evaluator.plot_model_comparison(metric='f1_micro')"
   ]
  },
  {
   "cell_type": "code",
   "execution_count": 31,
   "metadata": {},
   "outputs": [
    {
     "data": {
      "image/png": "[encoded data removed]",
      "text/plain": [
       "<Figure size 1200x600 with 1 Axes>"
      ]
     },
     "metadata": {},
     "output_type": "display_data"
    }
   ],
   "source": [
    "# Plot model comparison by Hamming Loss (lower is better)\n",
    "evaluator.plot_model_comparison(metric='hamming_loss')"
   ]
  },
  {
   "cell_type": "code",
   "execution_count": 32,
   "metadata": {},
   "outputs": [
    {
     "name": "stdout",
     "output_type": "stream",
     "text": [
      "Too many classes (27) for confusion matrices. Showing only for the first 10 classes.\n"
     ]
    },
    {
     "ename": "ValueError",
     "evalue": "The truth value of an array with more than one element is ambiguous. Use a.any() or a.all()",
     "output_type": "error",
     "traceback": [
      "\u001b[31m---------------------------------------------------------------------------\u001b[39m",
      "\u001b[31mValueError\u001b[39m                                Traceback (most recent call last)",
      "\u001b[36mCell\u001b[39m\u001b[36m \u001b[39m\u001b[32mIn[32]\u001b[39m\u001b[32m, line 2\u001b[39m\n\u001b[32m      1\u001b[39m \u001b[38;5;66;03m# Plot confusion matrices for the best model\u001b[39;00m\n\u001b[32m----> \u001b[39m\u001b[32m2\u001b[39m \u001b[43mevaluator\u001b[49m\u001b[43m.\u001b[49m\u001b[43mplot_confusion_matrices\u001b[49m\u001b[43m(\u001b[49m\u001b[43m)\u001b[49m\n",
      "\u001b[36mFile \u001b[39m\u001b[32mc:\\Users\\161070\\OneDrive - Arrow Electronics, Inc\\MyWork\\Tools\\Projects\\OneTimeProjects\\ML project\\model_evaluator.py:374\u001b[39m, in \u001b[36mModelEvaluator.plot_confusion_matrices\u001b[39m\u001b[34m(self, model_names, figsize)\u001b[39m\n\u001b[32m    371\u001b[39m \u001b[38;5;28;01melif\u001b[39;00m n_classes == \u001b[32m1\u001b[39m:\n\u001b[32m    372\u001b[39m     axes = axes.reshape(-\u001b[32m1\u001b[39m, \u001b[32m1\u001b[39m)\n\u001b[32m--> \u001b[39m\u001b[32m374\u001b[39m class_names = \u001b[38;5;28mself\u001b[39m.target_names[:n_classes] \u001b[38;5;28;01mif\u001b[39;00m \u001b[38;5;28mself\u001b[39m.target_names \u001b[38;5;28;01melse\u001b[39;00m [\u001b[33mf\u001b[39m\u001b[33m'\u001b[39m\u001b[33mClass \u001b[39m\u001b[38;5;132;01m{\u001b[39;00mi\u001b[38;5;132;01m}\u001b[39;00m\u001b[33m'\u001b[39m \u001b[38;5;28;01mfor\u001b[39;00m i \u001b[38;5;129;01min\u001b[39;00m \u001b[38;5;28mrange\u001b[39m(n_classes)]\n\u001b[32m    376\u001b[39m \u001b[38;5;28;01mfor\u001b[39;00m i, name \u001b[38;5;129;01min\u001b[39;00m \u001b[38;5;28menumerate\u001b[39m(model_names):\n\u001b[32m    377\u001b[39m     y_test = \u001b[38;5;28mself\u001b[39m.results[name][\u001b[33m'\u001b[39m\u001b[33my_test\u001b[39m\u001b[33m'\u001b[39m][:, :n_classes]\n",
      "\u001b[31mValueError\u001b[39m: The truth value of an array with more than one element is ambiguous. Use a.any() or a.all()"
     ]
    },
    {
     "data": {
      "image/png": "[encoded data removed]",
      "text/plain": [
       "<Figure size 1500x1200 with 10 Axes>"
      ]
     },
     "metadata": {},
     "output_type": "display_data"
    }
   ],
   "source": [
    "# Plot confusion matrices for the best model\n",
    "evaluator.plot_confusion_matrices()"
   ]
  },
  {
   "cell_type": "code",
   "execution_count": 33,
   "metadata": {},
   "outputs": [
    {
     "name": "stdout",
     "output_type": "stream",
     "text": [
      "Too many classes (27) for confusion matrices. Showing only for the first 10 classes.\n"
     ]
    },
    {
     "ename": "ValueError",
     "evalue": "The truth value of an array with more than one element is ambiguous. Use a.any() or a.all()",
     "output_type": "error",
     "traceback": [
      "\u001b[31m---------------------------------------------------------------------------\u001b[39m",
      "\u001b[31mValueError\u001b[39m                                Traceback (most recent call last)",
      "\u001b[36mCell\u001b[39m\u001b[36m \u001b[39m\u001b[32mIn[33]\u001b[39m\u001b[32m, line 3\u001b[39m\n\u001b[32m      1\u001b[39m \u001b[38;5;66;03m# Compare top 3 models with confusion matrices\u001b[39;00m\n\u001b[32m      2\u001b[39m top_models = summary[\u001b[33m'\u001b[39m\u001b[33mModel\u001b[39m\u001b[33m'\u001b[39m].head(\u001b[32m3\u001b[39m).tolist()\n\u001b[32m----> \u001b[39m\u001b[32m3\u001b[39m \u001b[43mevaluator\u001b[49m\u001b[43m.\u001b[49m\u001b[43mplot_confusion_matrices\u001b[49m\u001b[43m(\u001b[49m\u001b[43mmodel_names\u001b[49m\u001b[43m=\u001b[49m\u001b[43mtop_models\u001b[49m\u001b[43m,\u001b[49m\u001b[43m \u001b[49m\u001b[43mfigsize\u001b[49m\u001b[43m=\u001b[49m\u001b[43m(\u001b[49m\u001b[32;43m18\u001b[39;49m\u001b[43m,\u001b[49m\u001b[43m \u001b[49m\u001b[32;43m15\u001b[39;49m\u001b[43m)\u001b[49m\u001b[43m)\u001b[49m\n",
      "\u001b[36mFile \u001b[39m\u001b[32mc:\\Users\\161070\\OneDrive - Arrow Electronics, Inc\\MyWork\\Tools\\Projects\\OneTimeProjects\\ML project\\model_evaluator.py:374\u001b[39m, in \u001b[36mModelEvaluator.plot_confusion_matrices\u001b[39m\u001b[34m(self, model_names, figsize)\u001b[39m\n\u001b[32m    371\u001b[39m \u001b[38;5;28;01melif\u001b[39;00m n_classes == \u001b[32m1\u001b[39m:\n\u001b[32m    372\u001b[39m     axes = axes.reshape(-\u001b[32m1\u001b[39m, \u001b[32m1\u001b[39m)\n\u001b[32m--> \u001b[39m\u001b[32m374\u001b[39m class_names = \u001b[38;5;28mself\u001b[39m.target_names[:n_classes] \u001b[38;5;28;01mif\u001b[39;00m \u001b[38;5;28mself\u001b[39m.target_names \u001b[38;5;28;01melse\u001b[39;00m [\u001b[33mf\u001b[39m\u001b[33m'\u001b[39m\u001b[33mClass \u001b[39m\u001b[38;5;132;01m{\u001b[39;00mi\u001b[38;5;132;01m}\u001b[39;00m\u001b[33m'\u001b[39m \u001b[38;5;28;01mfor\u001b[39;00m i \u001b[38;5;129;01min\u001b[39;00m \u001b[38;5;28mrange\u001b[39m(n_classes)]\n\u001b[32m    376\u001b[39m \u001b[38;5;28;01mfor\u001b[39;00m i, name \u001b[38;5;129;01min\u001b[39;00m \u001b[38;5;28menumerate\u001b[39m(model_names):\n\u001b[32m    377\u001b[39m     y_test = \u001b[38;5;28mself\u001b[39m.results[name][\u001b[33m'\u001b[39m\u001b[33my_test\u001b[39m\u001b[33m'\u001b[39m][:, :n_classes]\n",
      "\u001b[31mValueError\u001b[39m: The truth value of an array with more than one element is ambiguous. Use a.any() or a.all()"
     ]
    },
    {
     "data": {
      "image/png": "[encoded data removed]",
      "text/plain": [
       "<Figure size 1800x1500 with 30 Axes>"
      ]
     },
     "metadata": {},
     "output_type": "display_data"
    }
   ],
   "source": [
    "# Compare top 3 models with confusion matrices\n",
    "top_models = summary['Model'].head(3).tolist()\n",
    "evaluator.plot_confusion_matrices(model_names=top_models, figsize=(18, 15))"
   ]
  },
  {
   "cell_type": "code",
   "execution_count": null,
   "metadata": {},
   "outputs": [],
   "source": [
    "\n",
    "\n"
   ]
  },
  {
   "cell_type": "markdown",
   "metadata": {},
   "source": [
    "## 7. Feature Importance Analysis"
   ]
  },
  {
   "cell_type": "code",
   "execution_count": 34,
   "metadata": {},
   "outputs": [
    {
     "name": "stdout",
     "output_type": "stream",
     "text": [
      "Model Neural Network MLP doesn't provide feature importance.\n"
     ]
    }
   ],
   "source": [
    "# Plot feature importance for the best model\n",
    "evaluator.plot_feature_importance(top_n=20)"
   ]
  },
  {
   "cell_type": "code",
   "execution_count": 41,
   "metadata": {},
   "outputs": [
    {
     "name": "stdout",
     "output_type": "stream",
     "text": [
      "Model Random Forest doesn't provide feature importance.\n"
     ]
    }
   ],
   "source": [
    "# Get feature importance for a specific model\n",
    "if 'Random Forest' in evaluator.results:\n",
    "    evaluator.plot_feature_importance(model_name='Random Forest', top_n=20)"
   ]
  },
  {
   "cell_type": "markdown",
   "metadata": {},
   "source": [
    "## 8. Hyperparameter Tuning"
   ]
  },
  {
   "cell_type": "code",
   "execution_count": 36,
   "metadata": {},
   "outputs": [
    {
     "data": {
      "text/plain": [
       "'Neural Network MLP'"
      ]
     },
     "execution_count": 36,
     "metadata": {},
     "output_type": "execute_result"
    }
   ],
   "source": [
    "evaluator.best_model_name"
   ]
  },
  {
   "cell_type": "code",
   "execution_count": null,
   "metadata": {},
   "outputs": [
    {
     "name": "stdout",
     "output_type": "stream",
     "text": [
      "Tuning hyperparameters for Neural Network MLP...\n",
      "Fitting 3 folds for each of 10 candidates, totalling 30 fits\n"
     ]
    }
   ],
   "source": [
    "# Define hyperparameter grid for the best model\n",
    "# Example for Random Forest\n",
    "if evaluator.best_model_name == 'Random Forest':\n",
    "    param_grid = {\n",
    "        'estimator__n_estimators': [50, 100, 200],\n",
    "        'estimator__max_depth': [None, 10, 20, 30],\n",
    "        'estimator__min_samples_split': [2, 5, 10],\n",
    "        'estimator__min_samples_leaf': [1, 2, 4]\n",
    "    }\n",
    "    \n",
    "    # Tune hyperparameters (using a smaller subset for speed)\n",
    "    X_sample, _, y_sample, _ = train_test_split(X_selected, y, test_size=0.8, random_state=42)\n",
    "    evaluator.tune_hyperparameters(\n",
    "        model_name=evaluator.best_model_name,\n",
    "        param_grid=param_grid,\n",
    "        X=X_sample,\n",
    "        y=y_sample,\n",
    "        cv=3,\n",
    "        n_iter=10\n",
    "    )\n",
    "elif evaluator.best_model_name == 'Neural Network MLP':\n",
    "    param_grid = {\n",
    "        'estimator__hidden_layer_sizes': [(50,), (100,), (100, 50), (100, 100)],\n",
    "        'estimator__activation': ['relu', 'tanh'],\n",
    "        'estimator__solver': ['adam', 'sgd'],\n",
    "        'estimator__alpha': [0.0001, 0.001, 0.01],\n",
    "        'estimator__learning_rate': ['constant', 'adaptive']\n",
    "    }\n",
    "\n",
    "    # Tune hyperparameters (using a smaller subset for speed)\n",
    "    X_sample, _, y_sample, _ = train_test_split(X_selected, y, test_size=0.8, random_state=42)\n",
    "    evaluator.tune_hyperparameters(\n",
    "        model_name=evaluator.best_model_name,\n",
    "        param_grid=param_grid,\n",
    "        X=X_sample,\n",
    "        y=y_sample,\n",
    "        cv=3,\n",
    "        n_iter=10\n",
    "    )"
   ]
  },
  {
   "cell_type": "markdown",
   "metadata": {},
   "source": [
    "## 9. Ensemble Predictions"
   ]
  },
  {
   "cell_type": "code",
   "execution_count": null,
   "metadata": {},
   "outputs": [],
   "source": [
    "# Create train/test split for ensemble evaluation\n",
    "X_train, X_test, y_train, y_test = train_test_split(X_selected, y, test_size=0.2, random_state=42)"
   ]
  },
  {
   "cell_type": "code",
   "execution_count": null,
   "metadata": {},
   "outputs": [],
   "source": [
    "# Get top 3 models for ensemble\n",
    "top_models = summary['Model'].head(3).tolist()\n",
    "print(f\"Creating ensemble from models: {top_models}\")"
   ]
  },
  {
   "cell_type": "code",
   "execution_count": null,
   "metadata": {},
   "outputs": [],
   "source": [
    "# Create ensemble predictions\n",
    "ensemble_pred = evaluator.ensemble_predictions(X_test, models_to_use=top_models)"
   ]
  },
  {
   "cell_type": "code",
   "execution_count": null,
   "metadata": {},
   "outputs": [],
   "source": [
    "# Evaluate ensemble performance\n",
    "from sklearn.metrics import classification_report\n",
    "\n",
    "print(\"Ensemble Model Performance:\")\n",
    "print(classification_report(y_test, ensemble_pred, target_names=mlb_genre.classes_, zero_division=0))"
   ]
  },
  {
   "cell_type": "code",
   "execution_count": 57,
   "metadata": {},
   "outputs": [],
   "source": [
    "from genre_predictor import GenrePredictor\n",
    "\n",
    "\n",
    "# Load training data\n",
    "df = pd.read_csv('wiki_movie_plots_deduped_cleaned.csv')\n",
    "df = df[df['genre_list']!=\"[]\"]"
   ]
  },
  {
   "cell_type": "code",
   "execution_count": 63,
   "metadata": {},
   "outputs": [
    {
     "data": {
      "text/plain": [
       "array([\"['western']\", \"['comedy']\", \"['crime', 'action']\", \"['drama']\",\n",
       "       \"['adventure']\", \"['fantasy']\", \"['sport']\", \"['horror']\",\n",
       "       \"['crime']\", \"['drama', 'horror']\", \"['documentary']\",\n",
       "       \"['western', 'comedy']\", \"['biography']\", \"['action']\",\n",
       "       \"['mystery']\", \"['romance']\", \"['drama', 'adventure']\",\n",
       "       \"['fantasy', 'family']\", \"['war']\", \"['comedy', 'adventure']\",\n",
       "       \"['fantasy', 'adventure']\", \"['thriller']\", \"['drama', 'comedy']\",\n",
       "       \"['thriller', 'mystery']\", \"['romance', 'fantasy']\",\n",
       "       \"['mystery', 'horror', 'comedy']\", \"['romance', 'drama']\",\n",
       "       \"['romance', 'comedy']\", \"['crime', 'drama']\", \"['musical']\",\n",
       "       \"['drama', 'war']\", \"['horror', 'comedy']\",\n",
       "       \"['musical', 'comedy']\", \"['drama', 'western']\",\n",
       "       \"['drama', 'thriller']\", \"['sci-fi', 'horror']\",\n",
       "       \"['crime', 'mystery']\", \"['musical', 'drama']\",\n",
       "       \"['drama', 'mystery']\", \"['animation']\", \"['sci-fi']\",\n",
       "       \"['crime', 'comedy']\", \"['drama', 'sport']\",\n",
       "       \"['thriller', 'adventure']\", \"['crime', 'horror']\",\n",
       "       \"['fantasy', 'comedy']\", \"['mystery', 'comedy']\",\n",
       "       \"['musical', 'drama', 'comedy']\", \"['horror', 'mystery']\",\n",
       "       \"['crime', 'drama', 'comedy']\", \"['drama', 'biography']\",\n",
       "       \"['drama', 'action']\", \"['action', 'adventure']\",\n",
       "       \"['sci-fi', 'drama']\", \"['musical', 'western']\",\n",
       "       \"['romance', 'adventure']\", \"['western', 'war']\",\n",
       "       \"['action', 'western']\", \"['drama', 'action', 'war']\",\n",
       "       \"['drama', 'fantasy']\", \"['romance', 'western']\",\n",
       "       \"['musical', 'adventure']\", \"['crime', 'sci-fi']\", \"['family']\",\n",
       "       \"['biography', 'war']\", \"['romance', 'war']\",\n",
       "       \"['musical', 'horror']\", \"['crime', 'adventure']\",\n",
       "       \"['western', 'biography']\", \"['crime', 'biography']\",\n",
       "       \"['drama', 'family']\", \"['western', 'family']\",\n",
       "       \"['musical', 'biography']\", \"['biography', 'comedy']\",\n",
       "       \"['crime', 'western']\", \"['action', 'comedy']\",\n",
       "       \"['musical', 'fantasy']\", \"['musical', 'family']\",\n",
       "       \"['family', 'comedy']\", \"['western', 'horror']\",\n",
       "       \"['western', 'mystery']\", \"['sport', 'biography']\",\n",
       "       \"['war', 'comedy']\", \"['action', 'war']\", \"['action', 'horror']\",\n",
       "       \"['sci-fi', 'comedy']\", \"['sci-fi', 'action']\",\n",
       "       \"['sport', 'comedy']\", \"['fantasy', 'horror']\",\n",
       "       \"['action', 'biography']\", \"['family', 'adventure']\",\n",
       "       \"['fantasy', 'thriller']\", \"['family', 'animation']\",\n",
       "       \"['fantasy', 'action']\", \"['thriller', 'comedy']\",\n",
       "       \"['crime', 'thriller']\", \"['thriller', 'horror']\",\n",
       "       \"['action', 'family']\", \"['crime', 'romance']\",\n",
       "       \"['biography', 'adventure']\", \"['sci-fi', 'adventure']\",\n",
       "       \"['sci-fi', 'family']\", \"['sci-fi', 'thriller']\",\n",
       "       \"['crime', 'drama', 'biography']\", \"['mystery', 'family']\",\n",
       "       \"['fantasy', 'sport']\", \"['sci-fi', 'fantasy', 'action']\",\n",
       "       \"['sci-fi', 'drama', 'family', 'animation']\",\n",
       "       \"['musical', 'comedy', 'animation']\",\n",
       "       \"['drama', 'sport', 'comedy']\", \"['adventure', 'animation']\",\n",
       "       \"['fantasy', 'animation']\", \"['horror', 'war']\",\n",
       "       \"['action', 'thriller']\", \"['romance', 'drama', 'mystery']\",\n",
       "       \"['romance', 'musical']\", \"['action', 'animation']\",\n",
       "       \"['action', 'history']\", \"['crime', 'family']\",\n",
       "       \"['comedy', 'animation']\", \"['musical', 'animation']\",\n",
       "       \"['action', 'horror', 'comedy']\",\n",
       "       \"['drama', 'family', 'comedy', 'adventure']\",\n",
       "       \"['biography', 'western']\", \"['sport', 'family']\",\n",
       "       \"['musical', 'thriller']\", \"['sci-fi', 'fantasy']\",\n",
       "       \"['mystery', 'adventure']\", \"['biography', 'horror']\",\n",
       "       \"['sci-fi', 'war']\", \"['drama', 'family', 'comedy']\",\n",
       "       \"['mystery', 'horror']\", \"['biography', 'thriller']\",\n",
       "       \"['fantasy', 'action', 'family']\",\n",
       "       \"['fantasy', 'comedy', 'adventure']\",\n",
       "       \"['romance', 'thriller', 'sci-fi']\", \"['fantasy', 'drama']\",\n",
       "       \"['action', 'mystery']\", \"['sci-fi', 'action', 'horror']\",\n",
       "       \"['family', 'comedy', 'adventure']\", \"['romance', 'sci-fi']\",\n",
       "       \"['comedy', 'documentary']\", \"['musical', 'documentary']\",\n",
       "       \"['thriller', 'western']\", \"['family', 'documentary']\",\n",
       "       \"['sci-fi', 'adventure', 'animation']\",\n",
       "       \"['drama', 'thriller', 'horror']\",\n",
       "       \"['crime', 'drama', 'thriller']\",\n",
       "       \"['sci-fi', 'action', 'horror', 'adventure']\",\n",
       "       \"['sci-fi', 'romance', 'adventure']\",\n",
       "       \"['action', 'comedy', 'animation']\",\n",
       "       \"['crime', 'drama', 'action']\", \"['drama', 'action', 'adventure']\",\n",
       "       \"['sci-fi', 'fantasy', 'action', 'adventure']\",\n",
       "       \"['romance', 'drama', 'fantasy', 'adventure', 'musical']\",\n",
       "       \"['action', 'thriller', 'horror']\",\n",
       "       \"['crime', 'action', 'sci-fi', 'adventure']\",\n",
       "       \"['romance', 'drama', 'sci-fi']\",\n",
       "       \"['fantasy', 'family', 'comedy', 'animation']\",\n",
       "       \"['sci-fi', 'comedy', 'animation']\",\n",
       "       \"['sci-fi', 'drama', 'thriller']\",\n",
       "       \"['sci-fi', 'comedy', 'adventure']\",\n",
       "       \"['fantasy', 'action', 'comedy', 'adventure']\",\n",
       "       \"['drama', 'war', 'comedy']\",\n",
       "       \"['drama', 'fantasy', 'adventure', 'action', 'war']\",\n",
       "       \"['action', 'family', 'comedy', 'animation']\",\n",
       "       \"['romance', 'drama', 'comedy']\",\n",
       "       \"['fantasy', 'action', 'horror', 'adventure']\",\n",
       "       \"['drama', 'sport', 'comedy', 'animation']\",\n",
       "       \"['sci-fi', 'action', 'adventure']\",\n",
       "       \"['romance', 'thriller', 'horror']\",\n",
       "       \"['crime', 'action', 'comedy']\",\n",
       "       \"['drama', 'action', 'fantasy', 'adventure']\",\n",
       "       \"['action', 'comedy', 'adventure', 'animation']\",\n",
       "       \"['romance', 'drama', 'horror', 'fantasy']\",\n",
       "       \"['sci-fi', 'action', 'comedy', 'adventure']\",\n",
       "       \"['sci-fi', 'drama', 'action', 'adventure']\",\n",
       "       \"['thriller', 'action']\", \"['comedy', 'adventure', 'animation']\",\n",
       "       \"['western', 'fantasy', 'horror', 'sci-fi', 'adventure', 'action']\",\n",
       "       \"['sci-fi', 'thriller', 'action']\",\n",
       "       \"['fantasy', 'horror', 'drama']\",\n",
       "       \"['action', 'comedy', 'adventure']\",\n",
       "       \"['drama', 'sport', 'biography', 'comedy']\",\n",
       "       \"['crime', 'drama', 'thriller', 'comedy', 'history', 'action', 'biography']\",\n",
       "       \"['sci-fi', 'drama', 'horror']\",\n",
       "       \"['sci-fi', 'thriller', 'mystery']\",\n",
       "       \"['fantasy', 'comedy', 'adventure', 'animation', 'musical', 'family']\",\n",
       "       \"['drama', 'action', 'thriller']\",\n",
       "       \"['thriller', 'mystery', 'horror']\",\n",
       "       \"['drama', 'biography', 'thriller']\",\n",
       "       \"['sci-fi', 'action', 'thriller']\",\n",
       "       \"['drama', 'action', 'biography']\",\n",
       "       \"['drama', 'thriller', 'mystery', 'horror', 'comedy']\",\n",
       "       \"['drama', 'biography', 'war']\",\n",
       "       \"['crime', 'drama', 'thriller', 'mystery', 'comedy']\",\n",
       "       \"['crime', 'thriller', 'mystery', 'horror']\",\n",
       "       \"['fantasy', 'comedy', 'sci-fi', 'adventure', 'action']\",\n",
       "       \"['crime', 'drama', 'mystery']\",\n",
       "       \"['crime', 'drama', 'thriller', 'comedy']\",\n",
       "       \"['musical', 'mystery', 'fantasy', 'animation']\",\n",
       "       \"['drama', 'biography', 'comedy']\",\n",
       "       \"['romance', 'thriller', 'fantasy', 'horror', 'sci-fi']\",\n",
       "       \"['family', 'comedy', 'adventure', 'animation']\",\n",
       "       \"['musical', 'biography', 'drama']\",\n",
       "       \"['sci-fi', 'drama', 'comedy']\",\n",
       "       \"['drama', 'biography', 'thriller', 'history']\",\n",
       "       \"['drama', 'war', 'history']\", \"['drama', 'family', 'adventure']\",\n",
       "       \"['drama', 'history']\",\n",
       "       \"['drama', 'action', 'comedy', 'animation']\",\n",
       "       \"['romance', 'drama', 'biography']\",\n",
       "       \"['musical', 'comedy', 'fantasy']\",\n",
       "       \"['crime', 'drama', 'adventure']\",\n",
       "       \"['drama', 'western', 'adventure']\",\n",
       "       \"['drama', 'adventure', 'history']\", \"['horror', 'documentary']\",\n",
       "       \"['romance', 'action']\", \"['crime', 'war']\",\n",
       "       \"['sci-fi', 'musical']\", \"['crime', 'drama', 'horror']\",\n",
       "       \"['war', 'adventure']\", \"['thriller', 'war']\",\n",
       "       \"['horror', 'adventure']\", \"['romance', 'musical', 'drama']\",\n",
       "       \"['romance', 'thriller']\", \"['sci-fi', 'romance']\",\n",
       "       \"['drama', 'thriller', 'mystery']\",\n",
       "       \"['romance', 'action', 'thriller']\",\n",
       "       \"['romance', 'fantasy', 'drama']\",\n",
       "       \"['romance', 'fantasy', 'action']\",\n",
       "       \"['drama', 'biography', 'action']\",\n",
       "       \"['romance', 'drama', 'action']\", \"['action', 'war', 'history']\",\n",
       "       \"['drama', 'action', 'comedy']\", \"['action', 'mystery', 'comedy']\",\n",
       "       \"['fantasy', 'comedy', 'adventure', 'animation']\",\n",
       "       \"['family', 'adventure', 'animation']\",\n",
       "       \"['fantasy', 'drama', 'comedy']\",\n",
       "       \"['drama', 'action', 'war', 'comedy']\",\n",
       "       \"['drama', 'action', 'mystery']\", \"['crime', 'action', 'mystery']\",\n",
       "       \"['crime', 'action', 'thriller']\",\n",
       "       \"['action', 'thriller', 'adventure']\",\n",
       "       \"['crime', 'drama', 'western']\",\n",
       "       \"['fantasy', 'action', 'mystery']\",\n",
       "       \"['crime', 'drama', 'thriller', 'mystery', 'action']\",\n",
       "       \"['drama', 'comedy', 'adventure', 'animation', 'family']\",\n",
       "       \"['romance', 'fantasy', 'comedy']\",\n",
       "       \"['fantasy', 'action', 'comedy']\",\n",
       "       \"['romance', 'drama', 'history']\",\n",
       "       \"['fantasy', 'adventure', 'animation']\",\n",
       "       \"['romance', 'drama', 'crime', 'mystery']\",\n",
       "       \"['romance', 'fantasy', 'adventure', 'animation']\",\n",
       "       \"['romance', 'action', 'history']\",\n",
       "       \"['fantasy', 'action', 'adventure', 'animation']\",\n",
       "       \"['romance', 'thriller', 'comedy', 'adventure']\",\n",
       "       \"['action', 'war', 'adventure']\",\n",
       "       \"['action', 'adventure', 'animation']\",\n",
       "       \"['fantasy', 'action', 'comedy', 'animation']\",\n",
       "       \"['sci-fi', 'action', 'comedy', 'animation']\",\n",
       "       \"['drama', 'action', 'history']\", \"['war', 'history']\",\n",
       "       \"['crime', 'action', 'mystery', 'comedy']\",\n",
       "       \"['drama', 'action', 'adventure', 'fantasy']\",\n",
       "       \"['fantasy', 'comedy', 'adventure', 'history']\",\n",
       "       \"['fantasy', 'comedy', 'animation']\",\n",
       "       \"['sci-fi', 'drama', 'adventure']\",\n",
       "       \"['action', 'mystery', 'comedy', 'adventure']\", \"['history']\",\n",
       "       \"['romance', 'drama', 'family']\",\n",
       "       \"['drama', 'fantasy', 'animation']\",\n",
       "       \"['drama', 'action', 'fantasy']\",\n",
       "       \"['crime', 'action', 'adventure']\",\n",
       "       \"['crime', 'drama', 'action', 'thriller']\",\n",
       "       \"['drama', 'comedy', 'fantasy', 'history']\",\n",
       "       \"['crime', 'drama', 'thriller', 'horror']\",\n",
       "       \"['action', 'war', 'biography', 'history']\",\n",
       "       \"['fantasy', 'action', 'history']\",\n",
       "       \"['drama', 'western', 'history']\", \"['sci-fi', 'drama', 'action']\",\n",
       "       \"['drama', 'thriller', 'fantasy', 'history']\",\n",
       "       \"['romance', 'fantasy', 'horror']\",\n",
       "       \"['crime', 'drama', 'comedy', 'adventure', 'action']\",\n",
       "       \"['action', 'thriller', 'comedy']\",\n",
       "       \"['romance', 'horror', 'comedy']\",\n",
       "       \"['romance', 'action', 'comedy']\",\n",
       "       \"['action', 'biography', 'history']\", \"['drama', 'documentary']\",\n",
       "       \"['romance', 'musical', 'comedy']\",\n",
       "       \"['fantasy', 'horror', 'adventure']\",\n",
       "       \"['romance', 'drama', 'thriller']\", \"['romance', 'horror']\",\n",
       "       \"['musical', 'drama', 'romance']\",\n",
       "       \"['musical', 'fantasy', 'romance']\", \"['musical', 'action']\",\n",
       "       \"['musical', 'drama', 'family', 'comedy']\",\n",
       "       \"['drama', 'action', 'family', 'comedy']\",\n",
       "       \"['musical', 'drama', 'romance', 'family']\",\n",
       "       \"['drama', 'action', 'family']\",\n",
       "       \"['romance', 'action', 'family', 'adventure']\",\n",
       "       \"['crime', 'drama', 'action', 'romance']\",\n",
       "       \"['romance', 'drama', 'comedy', 'musical', 'action']\",\n",
       "       \"['romance', 'thriller', 'mystery']\",\n",
       "       \"['crime', 'drama', 'romance']\", \"['musical', 'action', 'family']\",\n",
       "       \"['crime', 'romance', 'thriller', 'adventure', 'musical']\",\n",
       "       \"['drama', 'thriller', 'family']\",\n",
       "       \"['crime', 'action', 'romance']\",\n",
       "       \"['crime', 'drama', 'romance', 'comedy', 'family']\",\n",
       "       \"['crime', 'drama', 'romance', 'comedy', 'action']\",\n",
       "       \"['romance', 'drama', 'musical', 'action', 'family']\",\n",
       "       \"['crime', 'drama', 'action', 'adventure']\",\n",
       "       \"['crime', 'drama', 'family']\", \"['crime', 'musical', 'action']\",\n",
       "       \"['drama', 'horror', 'comedy']\",\n",
       "       \"['crime', 'drama', 'action', 'comedy']\",\n",
       "       \"['romance', 'drama', 'adventure', 'action', 'family']\",\n",
       "       \"['romance', 'action', 'adventure']\",\n",
       "       \"['romance', 'musical', 'family']\",\n",
       "       \"['fantasy', 'action', 'adventure']\",\n",
       "       \"['romance', 'drama', 'action', 'comedy']\",\n",
       "       \"['drama', 'adventure', 'musical', 'action', 'family']\",\n",
       "       \"['romance', 'musical', 'family', 'comedy']\",\n",
       "       \"['romance', 'sport']\", \"['romance', 'drama', 'family', 'comedy']\",\n",
       "       \"['crime', 'drama', 'action', 'family']\",\n",
       "       \"['crime', 'romance', 'adventure']\",\n",
       "       \"['drama', 'action', 'horror']\",\n",
       "       \"['thriller', 'mystery', 'adventure']\",\n",
       "       \"['musical', 'drama', 'family']\",\n",
       "       \"['drama', 'fantasy', 'comedy', 'sci-fi', 'adventure', 'musical', 'action']\",\n",
       "       \"['crime', 'drama', 'romance', 'action', 'family']\",\n",
       "       \"['crime', 'drama', 'adventure', 'action', 'family']\",\n",
       "       \"['drama', 'action', 'thriller', 'horror']\",\n",
       "       \"['crime', 'action', 'horror']\",\n",
       "       \"['crime', 'action', 'thriller', 'romance']\",\n",
       "       \"['crime', 'drama', 'action', 'horror']\",\n",
       "       \"['romance', 'drama', 'action', 'family']\",\n",
       "       \"['musical', 'drama', 'action', 'romance']\",\n",
       "       \"['romance', 'drama', 'action', 'fantasy']\",\n",
       "       \"['drama', 'thriller', 'comedy']\",\n",
       "       \"['sci-fi', 'crime', 'thriller']\",\n",
       "       \"['drama', 'thriller', 'family', 'fantasy']\",\n",
       "       \"['romance', 'crime']\", \"['crime', 'drama', 'romance', 'family']\",\n",
       "       \"['romance', 'drama', 'musical']\", \"['drama', 'thriller', 'war']\",\n",
       "       \"['romance', 'drama', 'family', 'musical']\",\n",
       "       \"['romance', 'drama', 'comedy', 'musical']\",\n",
       "       \"['romance', 'thriller', 'action']\",\n",
       "       \"['romance', 'drama', 'action', 'war']\",\n",
       "       \"['romance', 'drama', 'crime', 'musical']\",\n",
       "       \"['romance', 'musical', 'thriller']\",\n",
       "       \"['romance', 'musical', 'thriller', 'horror']\",\n",
       "       \"['romance', 'drama', 'action', 'thriller']\",\n",
       "       \"['romance', 'drama', 'comedy', 'musical', 'family']\",\n",
       "       \"['romance', 'fantasy', 'musical']\",\n",
       "       \"['musical', 'action', 'drama', 'comedy']\",\n",
       "       \"['romance', 'drama', 'crime']\", \"['romance', 'sport', 'action']\",\n",
       "       \"['romance', 'musical', 'thriller', 'action']\",\n",
       "       \"['drama', 'thriller', 'action']\",\n",
       "       \"['romance', 'drama', 'thriller', 'musical']\",\n",
       "       \"['romance', 'fantasy', 'action', 'musical']\",\n",
       "       \"['drama', 'sport', 'family']\",\n",
       "       \"['thriller', 'mystery', 'comedy']\",\n",
       "       \"['romance', 'drama', 'action', 'crime']\",\n",
       "       \"['romance', 'musical', 'action', 'comedy']\",\n",
       "       \"['romance', 'history']\",\n",
       "       \"['crime', 'drama', 'thriller', 'romance', 'action']\",\n",
       "       \"['drama', 'comedy', 'fantasy']\",\n",
       "       \"['crime', 'action', 'comedy', 'romance']\",\n",
       "       \"['romance', 'thriller', 'mystery', 'horror']\",\n",
       "       \"['romance', 'family', 'animation']\",\n",
       "       \"['romance', 'musical', 'family', 'drama']\",\n",
       "       \"['romance', 'drama', 'thriller', 'mystery', 'action']\",\n",
       "       \"['crime', 'romance', 'comedy']\",\n",
       "       \"['romance', 'crime', 'action', 'thriller']\",\n",
       "       \"['romance', 'drama', 'thriller', 'comedy', 'action']\",\n",
       "       \"['horror', 'family']\", \"['thriller', 'family']\",\n",
       "       \"['romance', 'family']\", \"['drama', 'fantasy', 'comedy']\",\n",
       "       \"['romance', 'thriller', 'comedy']\",\n",
       "       \"['drama', 'thriller', 'adventure']\",\n",
       "       \"['sci-fi', 'romance', 'thriller']\",\n",
       "       \"['sci-fi', 'fantasy', 'horror']\", \"['sci-fi', 'mystery']\",\n",
       "       \"['drama', 'thriller', 'horror', 'fantasy']\",\n",
       "       \"['sci-fi', 'fantasy', 'drama']\",\n",
       "       \"['fantasy', 'thriller', 'mystery', 'drama']\",\n",
       "       \"['sci-fi', 'drama', 'action', 'comedy']\",\n",
       "       \"['crime', 'drama', 'thriller', 'mystery']\",\n",
       "       \"['sci-fi', 'drama', 'action', 'horror']\",\n",
       "       \"['fantasy', 'action', 'horror', 'drama']\",\n",
       "       \"['romance', 'fantasy', 'drama', 'sci-fi']\",\n",
       "       \"['drama', 'fantasy', 'action', 'comedy']\",\n",
       "       \"['fantasy', 'action', 'drama']\",\n",
       "       \"['crime', 'drama', 'action', 'sci-fi']\",\n",
       "       \"['thriller', 'horror', 'action']\",\n",
       "       \"['fantasy', 'action', 'drama', 'comedy']\",\n",
       "       \"['fantasy', 'mystery', 'drama', 'comedy']\",\n",
       "       \"['fantasy', 'thriller', 'comedy']\",\n",
       "       \"['romance', 'drama', 'comedy', 'fantasy']\",\n",
       "       \"['musical', 'drama', 'mystery', 'comedy']\",\n",
       "       \"['sci-fi', 'drama', 'fantasy']\",\n",
       "       \"['fantasy', 'action', 'horror']\",\n",
       "       \"['drama', 'fantasy', 'mystery', 'adventure', 'action']\",\n",
       "       \"['sci-fi', 'action', 'comedy']\",\n",
       "       \"['drama', 'thriller', 'mystery', 'sci-fi', 'action']\",\n",
       "       \"['drama', 'action', 'sport']\",\n",
       "       \"['crime', 'drama', 'thriller', 'sci-fi', 'action']\",\n",
       "       \"['musical', 'fantasy', 'romance', 'drama']\",\n",
       "       \"['sci-fi', 'fantasy', 'drama', 'adventure']\",\n",
       "       \"['fantasy', 'history']\", \"['romance', 'fantasy', 'adventure']\"],\n",
       "      dtype=object)"
      ]
     },
     "execution_count": 63,
     "metadata": {},
     "output_type": "execute_result"
    }
   ],
   "source": [
    "df['genre_list'].unique()"
   ]
  },
  {
   "cell_type": "code",
   "execution_count": 71,
   "metadata": {},
   "outputs": [],
   "source": [
    "x = df['genre_list'].apply(ast.literal_eval)\n"
   ]
  },
  {
   "cell_type": "code",
   "execution_count": 81,
   "metadata": {},
   "outputs": [
    {
     "data": {
      "text/plain": [
       "array([1, 0, 0, 0, 0, 1, 0, 0, 0, 0, 0, 0, 0, 0, 0, 0, 0, 0, 0, 0])"
      ]
     },
     "execution_count": 81,
     "metadata": {},
     "output_type": "execute_result"
    }
   ],
   "source": [
    "mlb.fit_transform(x)[2]"
   ]
  },
  {
   "cell_type": "code",
   "execution_count": null,
   "metadata": {},
   "outputs": [
    {
     "name": "stdout",
     "output_type": "stream",
     "text": [
      "Target shape: (26808, 20)\n",
      "Genre classes: ['action' 'adventure' 'animation' 'biography' 'comedy' 'crime'\n",
      " 'documentary' 'drama' 'family' 'fantasy' 'history' 'horror' 'musical'\n",
      " 'mystery' 'romance' 'sci-fi' 'sport' 'thriller' 'war' 'western']\n"
     ]
    }
   ],
   "source": [
    "\n",
    "        # Prepare the target variable (genre)\n",
    "import ast\n",
    "\n",
    "mlb = MultiLabelBinarizer()\n",
    "\n",
    "\n",
    "y = mlb.fit_transform(df['genre_list'].apply(ast.literal_eval))\n",
    "print(f\"Target shape: {y.shape}\")\n",
    "print(f\"Genre classes: {mlb.classes_}\")"
   ]
  },
  {
   "cell_type": "markdown",
   "metadata": {},
   "source": [
    "from genre_predictor import GenrePredictor\n",
    "\n",
    "\n",
    "# Load the pre-trained genre predictor\n",
    "predictor = GenrePredictor.load(models_dir='saved_models')\n",
    "\n",
    "\n",
    "# Load training data\n",
    "df = pd.read_csv('wiki_movie_plots_deduped_cleaned.csv')\n",
    "df = df[df['genre_list']!=\"[]\"]\n",
    "\n",
    "# Load the test data\n",
    "test_data = pd.read_csv(\"wiki_movie_plots_deduped_cleaned.csv\")\n",
    "test_data = test_data.sample(n=1000, random_state=42)\n",
    "\n",
    "# Evaluate the predictor\n",
    "metrics = predictor.evaluate(test_data, plot_col='plot_lemmatized', genre_col='genre_list')\n",
    "\n",
    "# Print the evaluation metrics\n",
    "for metric, value in metrics.items():\n",
    "    print(f\"{metric}: {value:.4f}\")\n"
   ]
  }
 ],
 "metadata": {
  "kernelspec": {
   "display_name": "ml_env",
   "language": "python",
   "name": "python3"
  },
  "language_info": {
   "codemirror_mode": {
    "name": "ipython",
    "version": 3
   },
   "file_extension": ".py",
   "mimetype": "text/x-python",
   "name": "python",
   "nbconvert_exporter": "python",
   "pygments_lexer": "ipython3",
   "version": "3.11.2"
  }
 },
 "nbformat": 4,
 "nbformat_minor": 2
}
