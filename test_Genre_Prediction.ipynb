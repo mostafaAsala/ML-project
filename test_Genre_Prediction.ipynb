{
 "cells": [
  {
   "cell_type": "code",
   "execution_count": 3,
   "id": "1a9272e9",
   "metadata": {},
   "outputs": [],
   "source": [
    "\n",
    "import pandas as pd\n",
    "from genre_predictor import GenrePredictor\n"
   ]
  },
  {
   "cell_type": "code",
   "execution_count": 2,
   "id": "2fa2f85b",
   "metadata": {},
   "outputs": [
    {
     "name": "stdout",
     "output_type": "stream",
     "text": [
      "=== Training a new GenrePredictor ===\n",
      "Loaded dataset with 34886 movies\n",
      "After filtering empty genres: 26808 movies\n"
     ]
    },
    {
     "data": {
      "text/plain": [
       "<genre_predictor.GenrePredictor at 0x221eabc1c90>"
      ]
     },
     "execution_count": 2,
     "metadata": {},
     "output_type": "execute_result"
    }
   ],
   "source": [
    "\"\"\"\n",
    "Example of training a new GenrePredictor and saving it.\n",
    "\"\"\"\n",
    "print(\"=== Training a new GenrePredictor ===\")\n",
    "\n",
    "# Create a new GenrePredictor\n",
    "predictor = GenrePredictor(random_state=42, models_dir='saved_models')\n",
    "\n",
    "# Load and prepare data\n",
    "predictor.load_data(\n",
    "    file_path='wiki_movie_plots_deduped_cleaned.csv',\n",
    "    plot_col='plot_lemmatized',\n",
    "    genre_col='genre_list',\n",
    "    location_col='Origin/Ethnicity'\n",
    ")"
   ]
  },
  {
   "cell_type": "code",
   "execution_count": 3,
   "id": "a85a4d31",
   "metadata": {},
   "outputs": [
    {
     "name": "stdout",
     "output_type": "stream",
     "text": [
      "TF-IDF features shape: (26808, 300)\n",
      "Target shape: (26808, 20)\n",
      "Genre classes: ['action' 'adventure' 'animation' 'biography' 'comedy' 'crime'\n",
      " 'documentary' 'drama' 'family' 'fantasy' 'history' 'horror' 'musical'\n",
      " 'mystery' 'romance' 'sci-fi' 'sport' 'thriller' 'war' 'western']\n",
      "Location features shape: (26808, 24)\n",
      "Combined features shape: (26808, 324)\n",
      "Selected features shape: (26808, 100)\n"
     ]
    },
    {
     "data": {
      "text/plain": [
       "<genre_predictor.GenrePredictor at 0x221eabc1c90>"
      ]
     },
     "execution_count": 3,
     "metadata": {},
     "output_type": "execute_result"
    }
   ],
   "source": [
    "# Prepare features\n",
    "predictor.prepare_features()\n"
   ]
  },
  {
   "cell_type": "code",
   "execution_count": 4,
   "id": "9576ddc7",
   "metadata": {},
   "outputs": [
    {
     "name": "stdout",
     "output_type": "stream",
     "text": [
      "Ading basic models...\n",
      "Evaluating Logistic Regression...\n",
      "Evaluating Multinomial Naive Bayes...\n",
      "Evaluating Decision Tree...\n",
      "Evaluation complete. Best model: Decision Tree (F1-micro: 0.3028)\n",
      "Model Performance Summary:\n",
      "                     Model  F1-micro  F1-macro  F1-weighted  Hamming Loss\n",
      "0            Decision Tree  0.302825  0.182258     0.302741      0.082395\n",
      "1      Logistic Regression  0.250835  0.123547     0.238614      0.056481\n",
      "2  Multinomial Naive Bayes  0.088626  0.026326     0.079432      0.058877\n"
     ]
    },
    {
     "data": {
      "text/plain": [
       "<genre_predictor.GenrePredictor at 0x221eabc1c90>"
      ]
     },
     "execution_count": 4,
     "metadata": {},
     "output_type": "execute_result"
    }
   ],
   "source": [
    "# Train models (using only basic and intermediate for speed)\n",
    "predictor.train_models(model_levels=['basic'])\n",
    "    "
   ]
  },
  {
   "cell_type": "code",
   "execution_count": 5,
   "id": "b52761f3",
   "metadata": {},
   "outputs": [
    {
     "name": "stdout",
     "output_type": "stream",
     "text": [
      "Preprocessing components saved to saved_models\\movie_genre_predictor_preprocessing_20250521_015606\n",
      "Model Performance Summary:\n",
      "                     Model  F1-micro  F1-macro  F1-weighted  Hamming Loss\n",
      "0            Decision Tree  0.302825  0.182258     0.302741      0.082395\n",
      "1      Logistic Regression  0.250835  0.123547     0.238614      0.056481\n",
      "2  Multinomial Naive Bayes  0.088626  0.026326     0.079432      0.058877\n",
      "All models saved successfully to saved_models\\movie_genre_predictor_20250521_015606\n",
      "Models and preprocessing components saved to saved_models\\movie_genre_predictor_20250521_015606\n"
     ]
    }
   ],
   "source": [
    "# Save models and preprocessing components\n",
    "save_info = predictor.save_models(\n",
    "    dataset_name='movie_genre_predictor',\n",
    "    save_all=True,\n",
    "    include_data=False\n",
    ")\n",
    "\n",
    "print(f\"Models and preprocessing components saved to {save_info['base_directory']}\")\n"
   ]
  },
  {
   "cell_type": "markdown",
   "id": "2fa61b20",
   "metadata": {},
   "source": [
    "# Loading and Predict\n"
   ]
  },
  {
   "cell_type": "code",
   "execution_count": 4,
   "id": "1197b2d3",
   "metadata": {},
   "outputs": [
    {
     "name": "stdout",
     "output_type": "stream",
     "text": [
      "\n",
      "=== Loading a saved GenrePredictor ===\n",
      "Preprocessing components loaded from saved_models\\movie_genre_predictor_preprocessing_20250521_015606\n",
      "Successfully loaded models from saved_models\\movie_genre_predictor_20250521_015606\n",
      "Loaded predictor with best model: Decision Tree\n"
     ]
    }
   ],
   "source": [
    "print(\"\\n=== Loading a saved GenrePredictor ===\")\n",
    "\n",
    "# Load the saved predictor\n",
    "predictor = GenrePredictor.load(models_dir='saved_models')\n",
    "\n",
    "print(f\"Loaded predictor with best model: {predictor.evaluator.best_model_name}\")\n"
   ]
  },
  {
   "cell_type": "code",
   "execution_count": 5,
   "id": "7835d50d",
   "metadata": {},
   "outputs": [],
   "source": [
    "# Create some example movie data\n",
    "example_movies = [\n",
    "    {\n",
    "        'plot_lemmatized': \"A superhero with extraordinary powers fights against an evil villain to save the world from destruction.\",\n",
    "        'Origin/Ethnicity': \"American\"\n",
    "    },\n",
    "    {\n",
    "        'plot_lemmatized': \"Two people meet and fall in love despite their different backgrounds and families who disapprove of their relationship.\",\n",
    "        'Origin/Ethnicity': \"British\"\n",
    "    },\n",
    "    {\n",
    "        'plot_lemmatized': \"A detective investigates a series of mysterious murders in a small town, uncovering dark secrets about the residents.\",\n",
    "        'Origin/Ethnicity': \"French\"\n",
    "    },\n",
    "    {\n",
    "        'plot_lemmatized': \"Astronauts travel to a distant planet where they discover an alien civilization and must find a way to communicate with them.\",\n",
    "        'Origin/Ethnicity': \"American\"\n",
    "    }\n",
    "]"
   ]
  },
  {
   "cell_type": "code",
   "execution_count": 6,
   "id": "a33ae52d",
   "metadata": {},
   "outputs": [
    {
     "data": {
      "text/html": [
       "<div>\n",
       "<style scoped>\n",
       "    .dataframe tbody tr th:only-of-type {\n",
       "        vertical-align: middle;\n",
       "    }\n",
       "\n",
       "    .dataframe tbody tr th {\n",
       "        vertical-align: top;\n",
       "    }\n",
       "\n",
       "    .dataframe thead th {\n",
       "        text-align: right;\n",
       "    }\n",
       "</style>\n",
       "<table border=\"1\" class=\"dataframe\">\n",
       "  <thead>\n",
       "    <tr style=\"text-align: right;\">\n",
       "      <th></th>\n",
       "      <th>plot_lemmatized</th>\n",
       "      <th>Origin/Ethnicity</th>\n",
       "    </tr>\n",
       "  </thead>\n",
       "  <tbody>\n",
       "    <tr>\n",
       "      <th>0</th>\n",
       "      <td>A superhero with extraordinary powers fights a...</td>\n",
       "      <td>American</td>\n",
       "    </tr>\n",
       "    <tr>\n",
       "      <th>1</th>\n",
       "      <td>Two people meet and fall in love despite their...</td>\n",
       "      <td>British</td>\n",
       "    </tr>\n",
       "    <tr>\n",
       "      <th>2</th>\n",
       "      <td>A detective investigates a series of mysteriou...</td>\n",
       "      <td>French</td>\n",
       "    </tr>\n",
       "    <tr>\n",
       "      <th>3</th>\n",
       "      <td>Astronauts travel to a distant planet where th...</td>\n",
       "      <td>American</td>\n",
       "    </tr>\n",
       "  </tbody>\n",
       "</table>\n",
       "</div>"
      ],
      "text/plain": [
       "                                     plot_lemmatized Origin/Ethnicity\n",
       "0  A superhero with extraordinary powers fights a...         American\n",
       "1  Two people meet and fall in love despite their...          British\n",
       "2  A detective investigates a series of mysteriou...           French\n",
       "3  Astronauts travel to a distant planet where th...         American"
      ]
     },
     "execution_count": 6,
     "metadata": {},
     "output_type": "execute_result"
    }
   ],
   "source": [
    "# Convert to DataFrame\n",
    "example_df = pd.DataFrame(example_movies)\n",
    "example_df"
   ]
  },
  {
   "cell_type": "code",
   "execution_count": 7,
   "id": "e1591ca5",
   "metadata": {},
   "outputs": [
    {
     "name": "stdout",
     "output_type": "stream",
     "text": [
      "\n",
      "Making predictions on example movies:\n"
     ]
    }
   ],
   "source": [
    "\n",
    "# Make predictions\n",
    "print(\"\\nMaking predictions on example movies:\")\n",
    "predictions = predictor.predict(example_df)\n"
   ]
  },
  {
   "cell_type": "code",
   "execution_count": 8,
   "id": "f03e30ee",
   "metadata": {},
   "outputs": [
    {
     "data": {
      "text/plain": [
       "[['fantasy', 'romance'], ['drama', 'romance'], ['comedy', 'drama'], ['action']]"
      ]
     },
     "execution_count": 8,
     "metadata": {},
     "output_type": "execute_result"
    }
   ],
   "source": [
    "predictions"
   ]
  },
  {
   "cell_type": "code",
   "execution_count": 11,
   "id": "8f05472c",
   "metadata": {},
   "outputs": [
    {
     "name": "stdout",
     "output_type": "stream",
     "text": [
      "\n",
      "Movie 1:\n",
      "Plot: A superhero with extraordinary powers fights against an evil villain to save the world from destruct...\n",
      "Origin: American\n",
      "Predicted genres: ['fantasy', 'romance']\n",
      "\n",
      "Movie 2:\n",
      "Plot: Two people meet and fall in love despite their different backgrounds and families who disapprove of ...\n",
      "Origin: British\n",
      "Predicted genres: ['drama', 'romance']\n",
      "\n",
      "Movie 3:\n",
      "Plot: A detective investigates a series of mysterious murders in a small town, uncovering dark secrets abo...\n",
      "Origin: French\n",
      "Predicted genres: ['comedy', 'drama']\n",
      "\n",
      "Movie 4:\n",
      "Plot: Astronauts travel to a distant planet where they discover an alien civilization and must find a way ...\n",
      "Origin: American\n",
      "Predicted genres: ['action']\n"
     ]
    }
   ],
   "source": [
    "# Display results\n",
    "for i, (movie, genres) in enumerate(zip(example_movies, predictions)):\n",
    "    print(f\"\\nMovie {i+1}:\")\n",
    "    print(f\"Plot: {movie['plot_lemmatized'][:100]}...\")\n",
    "    print(f\"Origin: {movie['Origin/Ethnicity']}\")\n",
    "    print(f\"Predicted genres: {genres}\")\n"
   ]
  },
  {
   "cell_type": "code",
   "execution_count": 12,
   "id": "0d35b9fb",
   "metadata": {},
   "outputs": [
    {
     "name": "stdout",
     "output_type": "stream",
     "text": [
      "None\n"
     ]
    }
   ],
   "source": [
    "print(predictor.df)"
   ]
  },
  {
   "cell_type": "code",
   "execution_count": 13,
   "id": "e0976d1d",
   "metadata": {},
   "outputs": [],
   "source": [
    "from sklearn.preprocessing import MultiLabelBinarizer\n",
    "\n",
    "\n",
    "mlb = MultiLabelBinarizer()\n",
    "df = pd.read_csv('wiki_movie_plots_deduped_cleaned.csv')"
   ]
  },
  {
   "cell_type": "code",
   "execution_count": 14,
   "id": "ea124463",
   "metadata": {},
   "outputs": [],
   "source": [
    "\n",
    "y = mlb.fit_transform(df['genre_list'])"
   ]
  },
  {
   "cell_type": "code",
   "execution_count": 16,
   "id": "58390d2a",
   "metadata": {},
   "outputs": [
    {
     "data": {
      "text/plain": [
       "(34886, 27)"
      ]
     },
     "execution_count": 16,
     "metadata": {},
     "output_type": "execute_result"
    }
   ],
   "source": [
    "y.shape"
   ]
  },
  {
   "cell_type": "code",
   "execution_count": 17,
   "id": "5dad6037",
   "metadata": {},
   "outputs": [
    {
     "data": {
      "text/plain": [
       "array([' ', \"'\", ',', '-', '[', ']', 'a', 'b', 'c', 'd', 'e', 'f', 'g',\n",
       "       'h', 'i', 'l', 'm', 'n', 'o', 'p', 'r', 's', 't', 'u', 'v', 'w',\n",
       "       'y'], dtype=object)"
      ]
     },
     "execution_count": 17,
     "metadata": {},
     "output_type": "execute_result"
    }
   ],
   "source": [
    "mlb.classes_"
   ]
  },
  {
   "cell_type": "code",
   "execution_count": 18,
   "id": "d37a8284",
   "metadata": {},
   "outputs": [
    {
     "data": {
      "text/plain": [
       "0                []\n",
       "1                []\n",
       "2                []\n",
       "3                []\n",
       "4                []\n",
       "            ...    \n",
       "34881            []\n",
       "34882    ['comedy']\n",
       "34883    ['comedy']\n",
       "34884    ['comedy']\n",
       "34885            []\n",
       "Name: genre_list, Length: 34886, dtype: object"
      ]
     },
     "execution_count": 18,
     "metadata": {},
     "output_type": "execute_result"
    }
   ],
   "source": [
    "df['genre_list']"
   ]
  },
  {
   "cell_type": "code",
   "execution_count": 2,
   "id": "1c3214f8",
   "metadata": {},
   "outputs": [
    {
     "data": {
      "text/html": [
       "<style>#sk-container-id-1 {\n",
       "  /* Definition of color scheme common for light and dark mode */\n",
       "  --sklearn-color-text: #000;\n",
       "  --sklearn-color-text-muted: #666;\n",
       "  --sklearn-color-line: gray;\n",
       "  /* Definition of color scheme for unfitted estimators */\n",
       "  --sklearn-color-unfitted-level-0: #fff5e6;\n",
       "  --sklearn-color-unfitted-level-1: #f6e4d2;\n",
       "  --sklearn-color-unfitted-level-2: #ffe0b3;\n",
       "  --sklearn-color-unfitted-level-3: chocolate;\n",
       "  /* Definition of color scheme for fitted estimators */\n",
       "  --sklearn-color-fitted-level-0: #f0f8ff;\n",
       "  --sklearn-color-fitted-level-1: #d4ebff;\n",
       "  --sklearn-color-fitted-level-2: #b3dbfd;\n",
       "  --sklearn-color-fitted-level-3: cornflowerblue;\n",
       "\n",
       "  /* Specific color for light theme */\n",
       "  --sklearn-color-text-on-default-background: var(--sg-text-color, var(--theme-code-foreground, var(--jp-content-font-color1, black)));\n",
       "  --sklearn-color-background: var(--sg-background-color, var(--theme-background, var(--jp-layout-color0, white)));\n",
       "  --sklearn-color-border-box: var(--sg-text-color, var(--theme-code-foreground, var(--jp-content-font-color1, black)));\n",
       "  --sklearn-color-icon: #696969;\n",
       "\n",
       "  @media (prefers-color-scheme: dark) {\n",
       "    /* Redefinition of color scheme for dark theme */\n",
       "    --sklearn-color-text-on-default-background: var(--sg-text-color, var(--theme-code-foreground, var(--jp-content-font-color1, white)));\n",
       "    --sklearn-color-background: var(--sg-background-color, var(--theme-background, var(--jp-layout-color0, #111)));\n",
       "    --sklearn-color-border-box: var(--sg-text-color, var(--theme-code-foreground, var(--jp-content-font-color1, white)));\n",
       "    --sklearn-color-icon: #878787;\n",
       "  }\n",
       "}\n",
       "\n",
       "#sk-container-id-1 {\n",
       "  color: var(--sklearn-color-text);\n",
       "}\n",
       "\n",
       "#sk-container-id-1 pre {\n",
       "  padding: 0;\n",
       "}\n",
       "\n",
       "#sk-container-id-1 input.sk-hidden--visually {\n",
       "  border: 0;\n",
       "  clip: rect(1px 1px 1px 1px);\n",
       "  clip: rect(1px, 1px, 1px, 1px);\n",
       "  height: 1px;\n",
       "  margin: -1px;\n",
       "  overflow: hidden;\n",
       "  padding: 0;\n",
       "  position: absolute;\n",
       "  width: 1px;\n",
       "}\n",
       "\n",
       "#sk-container-id-1 div.sk-dashed-wrapped {\n",
       "  border: 1px dashed var(--sklearn-color-line);\n",
       "  margin: 0 0.4em 0.5em 0.4em;\n",
       "  box-sizing: border-box;\n",
       "  padding-bottom: 0.4em;\n",
       "  background-color: var(--sklearn-color-background);\n",
       "}\n",
       "\n",
       "#sk-container-id-1 div.sk-container {\n",
       "  /* jupyter's `normalize.less` sets `[hidden] { display: none; }`\n",
       "     but bootstrap.min.css set `[hidden] { display: none !important; }`\n",
       "     so we also need the `!important` here to be able to override the\n",
       "     default hidden behavior on the sphinx rendered scikit-learn.org.\n",
       "     See: https://github.com/scikit-learn/scikit-learn/issues/21755 */\n",
       "  display: inline-block !important;\n",
       "  position: relative;\n",
       "}\n",
       "\n",
       "#sk-container-id-1 div.sk-text-repr-fallback {\n",
       "  display: none;\n",
       "}\n",
       "\n",
       "div.sk-parallel-item,\n",
       "div.sk-serial,\n",
       "div.sk-item {\n",
       "  /* draw centered vertical line to link estimators */\n",
       "  background-image: linear-gradient(var(--sklearn-color-text-on-default-background), var(--sklearn-color-text-on-default-background));\n",
       "  background-size: 2px 100%;\n",
       "  background-repeat: no-repeat;\n",
       "  background-position: center center;\n",
       "}\n",
       "\n",
       "/* Parallel-specific style estimator block */\n",
       "\n",
       "#sk-container-id-1 div.sk-parallel-item::after {\n",
       "  content: \"\";\n",
       "  width: 100%;\n",
       "  border-bottom: 2px solid var(--sklearn-color-text-on-default-background);\n",
       "  flex-grow: 1;\n",
       "}\n",
       "\n",
       "#sk-container-id-1 div.sk-parallel {\n",
       "  display: flex;\n",
       "  align-items: stretch;\n",
       "  justify-content: center;\n",
       "  background-color: var(--sklearn-color-background);\n",
       "  position: relative;\n",
       "}\n",
       "\n",
       "#sk-container-id-1 div.sk-parallel-item {\n",
       "  display: flex;\n",
       "  flex-direction: column;\n",
       "}\n",
       "\n",
       "#sk-container-id-1 div.sk-parallel-item:first-child::after {\n",
       "  align-self: flex-end;\n",
       "  width: 50%;\n",
       "}\n",
       "\n",
       "#sk-container-id-1 div.sk-parallel-item:last-child::after {\n",
       "  align-self: flex-start;\n",
       "  width: 50%;\n",
       "}\n",
       "\n",
       "#sk-container-id-1 div.sk-parallel-item:only-child::after {\n",
       "  width: 0;\n",
       "}\n",
       "\n",
       "/* Serial-specific style estimator block */\n",
       "\n",
       "#sk-container-id-1 div.sk-serial {\n",
       "  display: flex;\n",
       "  flex-direction: column;\n",
       "  align-items: center;\n",
       "  background-color: var(--sklearn-color-background);\n",
       "  padding-right: 1em;\n",
       "  padding-left: 1em;\n",
       "}\n",
       "\n",
       "\n",
       "/* Toggleable style: style used for estimator/Pipeline/ColumnTransformer box that is\n",
       "clickable and can be expanded/collapsed.\n",
       "- Pipeline and ColumnTransformer use this feature and define the default style\n",
       "- Estimators will overwrite some part of the style using the `sk-estimator` class\n",
       "*/\n",
       "\n",
       "/* Pipeline and ColumnTransformer style (default) */\n",
       "\n",
       "#sk-container-id-1 div.sk-toggleable {\n",
       "  /* Default theme specific background. It is overwritten whether we have a\n",
       "  specific estimator or a Pipeline/ColumnTransformer */\n",
       "  background-color: var(--sklearn-color-background);\n",
       "}\n",
       "\n",
       "/* Toggleable label */\n",
       "#sk-container-id-1 label.sk-toggleable__label {\n",
       "  cursor: pointer;\n",
       "  display: flex;\n",
       "  width: 100%;\n",
       "  margin-bottom: 0;\n",
       "  padding: 0.5em;\n",
       "  box-sizing: border-box;\n",
       "  text-align: center;\n",
       "  align-items: start;\n",
       "  justify-content: space-between;\n",
       "  gap: 0.5em;\n",
       "}\n",
       "\n",
       "#sk-container-id-1 label.sk-toggleable__label .caption {\n",
       "  font-size: 0.6rem;\n",
       "  font-weight: lighter;\n",
       "  color: var(--sklearn-color-text-muted);\n",
       "}\n",
       "\n",
       "#sk-container-id-1 label.sk-toggleable__label-arrow:before {\n",
       "  /* Arrow on the left of the label */\n",
       "  content: \"▸\";\n",
       "  float: left;\n",
       "  margin-right: 0.25em;\n",
       "  color: var(--sklearn-color-icon);\n",
       "}\n",
       "\n",
       "#sk-container-id-1 label.sk-toggleable__label-arrow:hover:before {\n",
       "  color: var(--sklearn-color-text);\n",
       "}\n",
       "\n",
       "/* Toggleable content - dropdown */\n",
       "\n",
       "#sk-container-id-1 div.sk-toggleable__content {\n",
       "  max-height: 0;\n",
       "  max-width: 0;\n",
       "  overflow: hidden;\n",
       "  text-align: left;\n",
       "  /* unfitted */\n",
       "  background-color: var(--sklearn-color-unfitted-level-0);\n",
       "}\n",
       "\n",
       "#sk-container-id-1 div.sk-toggleable__content.fitted {\n",
       "  /* fitted */\n",
       "  background-color: var(--sklearn-color-fitted-level-0);\n",
       "}\n",
       "\n",
       "#sk-container-id-1 div.sk-toggleable__content pre {\n",
       "  margin: 0.2em;\n",
       "  border-radius: 0.25em;\n",
       "  color: var(--sklearn-color-text);\n",
       "  /* unfitted */\n",
       "  background-color: var(--sklearn-color-unfitted-level-0);\n",
       "}\n",
       "\n",
       "#sk-container-id-1 div.sk-toggleable__content.fitted pre {\n",
       "  /* unfitted */\n",
       "  background-color: var(--sklearn-color-fitted-level-0);\n",
       "}\n",
       "\n",
       "#sk-container-id-1 input.sk-toggleable__control:checked~div.sk-toggleable__content {\n",
       "  /* Expand drop-down */\n",
       "  max-height: 200px;\n",
       "  max-width: 100%;\n",
       "  overflow: auto;\n",
       "}\n",
       "\n",
       "#sk-container-id-1 input.sk-toggleable__control:checked~label.sk-toggleable__label-arrow:before {\n",
       "  content: \"▾\";\n",
       "}\n",
       "\n",
       "/* Pipeline/ColumnTransformer-specific style */\n",
       "\n",
       "#sk-container-id-1 div.sk-label input.sk-toggleable__control:checked~label.sk-toggleable__label {\n",
       "  color: var(--sklearn-color-text);\n",
       "  background-color: var(--sklearn-color-unfitted-level-2);\n",
       "}\n",
       "\n",
       "#sk-container-id-1 div.sk-label.fitted input.sk-toggleable__control:checked~label.sk-toggleable__label {\n",
       "  background-color: var(--sklearn-color-fitted-level-2);\n",
       "}\n",
       "\n",
       "/* Estimator-specific style */\n",
       "\n",
       "/* Colorize estimator box */\n",
       "#sk-container-id-1 div.sk-estimator input.sk-toggleable__control:checked~label.sk-toggleable__label {\n",
       "  /* unfitted */\n",
       "  background-color: var(--sklearn-color-unfitted-level-2);\n",
       "}\n",
       "\n",
       "#sk-container-id-1 div.sk-estimator.fitted input.sk-toggleable__control:checked~label.sk-toggleable__label {\n",
       "  /* fitted */\n",
       "  background-color: var(--sklearn-color-fitted-level-2);\n",
       "}\n",
       "\n",
       "#sk-container-id-1 div.sk-label label.sk-toggleable__label,\n",
       "#sk-container-id-1 div.sk-label label {\n",
       "  /* The background is the default theme color */\n",
       "  color: var(--sklearn-color-text-on-default-background);\n",
       "}\n",
       "\n",
       "/* On hover, darken the color of the background */\n",
       "#sk-container-id-1 div.sk-label:hover label.sk-toggleable__label {\n",
       "  color: var(--sklearn-color-text);\n",
       "  background-color: var(--sklearn-color-unfitted-level-2);\n",
       "}\n",
       "\n",
       "/* Label box, darken color on hover, fitted */\n",
       "#sk-container-id-1 div.sk-label.fitted:hover label.sk-toggleable__label.fitted {\n",
       "  color: var(--sklearn-color-text);\n",
       "  background-color: var(--sklearn-color-fitted-level-2);\n",
       "}\n",
       "\n",
       "/* Estimator label */\n",
       "\n",
       "#sk-container-id-1 div.sk-label label {\n",
       "  font-family: monospace;\n",
       "  font-weight: bold;\n",
       "  display: inline-block;\n",
       "  line-height: 1.2em;\n",
       "}\n",
       "\n",
       "#sk-container-id-1 div.sk-label-container {\n",
       "  text-align: center;\n",
       "}\n",
       "\n",
       "/* Estimator-specific */\n",
       "#sk-container-id-1 div.sk-estimator {\n",
       "  font-family: monospace;\n",
       "  border: 1px dotted var(--sklearn-color-border-box);\n",
       "  border-radius: 0.25em;\n",
       "  box-sizing: border-box;\n",
       "  margin-bottom: 0.5em;\n",
       "  /* unfitted */\n",
       "  background-color: var(--sklearn-color-unfitted-level-0);\n",
       "}\n",
       "\n",
       "#sk-container-id-1 div.sk-estimator.fitted {\n",
       "  /* fitted */\n",
       "  background-color: var(--sklearn-color-fitted-level-0);\n",
       "}\n",
       "\n",
       "/* on hover */\n",
       "#sk-container-id-1 div.sk-estimator:hover {\n",
       "  /* unfitted */\n",
       "  background-color: var(--sklearn-color-unfitted-level-2);\n",
       "}\n",
       "\n",
       "#sk-container-id-1 div.sk-estimator.fitted:hover {\n",
       "  /* fitted */\n",
       "  background-color: var(--sklearn-color-fitted-level-2);\n",
       "}\n",
       "\n",
       "/* Specification for estimator info (e.g. \"i\" and \"?\") */\n",
       "\n",
       "/* Common style for \"i\" and \"?\" */\n",
       "\n",
       ".sk-estimator-doc-link,\n",
       "a:link.sk-estimator-doc-link,\n",
       "a:visited.sk-estimator-doc-link {\n",
       "  float: right;\n",
       "  font-size: smaller;\n",
       "  line-height: 1em;\n",
       "  font-family: monospace;\n",
       "  background-color: var(--sklearn-color-background);\n",
       "  border-radius: 1em;\n",
       "  height: 1em;\n",
       "  width: 1em;\n",
       "  text-decoration: none !important;\n",
       "  margin-left: 0.5em;\n",
       "  text-align: center;\n",
       "  /* unfitted */\n",
       "  border: var(--sklearn-color-unfitted-level-1) 1pt solid;\n",
       "  color: var(--sklearn-color-unfitted-level-1);\n",
       "}\n",
       "\n",
       ".sk-estimator-doc-link.fitted,\n",
       "a:link.sk-estimator-doc-link.fitted,\n",
       "a:visited.sk-estimator-doc-link.fitted {\n",
       "  /* fitted */\n",
       "  border: var(--sklearn-color-fitted-level-1) 1pt solid;\n",
       "  color: var(--sklearn-color-fitted-level-1);\n",
       "}\n",
       "\n",
       "/* On hover */\n",
       "div.sk-estimator:hover .sk-estimator-doc-link:hover,\n",
       ".sk-estimator-doc-link:hover,\n",
       "div.sk-label-container:hover .sk-estimator-doc-link:hover,\n",
       ".sk-estimator-doc-link:hover {\n",
       "  /* unfitted */\n",
       "  background-color: var(--sklearn-color-unfitted-level-3);\n",
       "  color: var(--sklearn-color-background);\n",
       "  text-decoration: none;\n",
       "}\n",
       "\n",
       "div.sk-estimator.fitted:hover .sk-estimator-doc-link.fitted:hover,\n",
       ".sk-estimator-doc-link.fitted:hover,\n",
       "div.sk-label-container:hover .sk-estimator-doc-link.fitted:hover,\n",
       ".sk-estimator-doc-link.fitted:hover {\n",
       "  /* fitted */\n",
       "  background-color: var(--sklearn-color-fitted-level-3);\n",
       "  color: var(--sklearn-color-background);\n",
       "  text-decoration: none;\n",
       "}\n",
       "\n",
       "/* Span, style for the box shown on hovering the info icon */\n",
       ".sk-estimator-doc-link span {\n",
       "  display: none;\n",
       "  z-index: 9999;\n",
       "  position: relative;\n",
       "  font-weight: normal;\n",
       "  right: .2ex;\n",
       "  padding: .5ex;\n",
       "  margin: .5ex;\n",
       "  width: min-content;\n",
       "  min-width: 20ex;\n",
       "  max-width: 50ex;\n",
       "  color: var(--sklearn-color-text);\n",
       "  box-shadow: 2pt 2pt 4pt #999;\n",
       "  /* unfitted */\n",
       "  background: var(--sklearn-color-unfitted-level-0);\n",
       "  border: .5pt solid var(--sklearn-color-unfitted-level-3);\n",
       "}\n",
       "\n",
       ".sk-estimator-doc-link.fitted span {\n",
       "  /* fitted */\n",
       "  background: var(--sklearn-color-fitted-level-0);\n",
       "  border: var(--sklearn-color-fitted-level-3);\n",
       "}\n",
       "\n",
       ".sk-estimator-doc-link:hover span {\n",
       "  display: block;\n",
       "}\n",
       "\n",
       "/* \"?\"-specific style due to the `<a>` HTML tag */\n",
       "\n",
       "#sk-container-id-1 a.estimator_doc_link {\n",
       "  float: right;\n",
       "  font-size: 1rem;\n",
       "  line-height: 1em;\n",
       "  font-family: monospace;\n",
       "  background-color: var(--sklearn-color-background);\n",
       "  border-radius: 1rem;\n",
       "  height: 1rem;\n",
       "  width: 1rem;\n",
       "  text-decoration: none;\n",
       "  /* unfitted */\n",
       "  color: var(--sklearn-color-unfitted-level-1);\n",
       "  border: var(--sklearn-color-unfitted-level-1) 1pt solid;\n",
       "}\n",
       "\n",
       "#sk-container-id-1 a.estimator_doc_link.fitted {\n",
       "  /* fitted */\n",
       "  border: var(--sklearn-color-fitted-level-1) 1pt solid;\n",
       "  color: var(--sklearn-color-fitted-level-1);\n",
       "}\n",
       "\n",
       "/* On hover */\n",
       "#sk-container-id-1 a.estimator_doc_link:hover {\n",
       "  /* unfitted */\n",
       "  background-color: var(--sklearn-color-unfitted-level-3);\n",
       "  color: var(--sklearn-color-background);\n",
       "  text-decoration: none;\n",
       "}\n",
       "\n",
       "#sk-container-id-1 a.estimator_doc_link.fitted:hover {\n",
       "  /* fitted */\n",
       "  background-color: var(--sklearn-color-fitted-level-3);\n",
       "}\n",
       "</style><div id=\"sk-container-id-1\" class=\"sk-top-container\"><div class=\"sk-text-repr-fallback\"><pre>Pipeline(steps=[(&#x27;features&#x27;,\n",
       "                 ColumnTransformer(transformers=[(&#x27;plot_tfidf&#x27;,\n",
       "                                                  TfidfVectorizer(max_features=300,\n",
       "                                                                  ngram_range=(1,\n",
       "                                                                               2),\n",
       "                                                                  stop_words=&#x27;english&#x27;,\n",
       "                                                                  strip_accents=&#x27;unicode&#x27;,\n",
       "                                                                  sublinear_tf=True),\n",
       "                                                  &#x27;plot&#x27;),\n",
       "                                                 (&#x27;location&#x27;,\n",
       "                                                  LocationTransformer(location_categories=[1,\n",
       "                                                                                           2,\n",
       "                                                                                           3,\n",
       "                                                                                           4]),\n",
       "                                                  &#x27;origin&#x27;)])),\n",
       "                (&#x27;selector&#x27;,\n",
       "                 SelectKBest(k=100,\n",
       "                             score_func=&lt;function chi2 at 0x0000015777424B80&gt;))])</pre><b>In a Jupyter environment, please rerun this cell to show the HTML representation or trust the notebook. <br />On GitHub, the HTML representation is unable to render, please try loading this page with nbviewer.org.</b></div><div class=\"sk-container\" hidden><div class=\"sk-item sk-dashed-wrapped\"><div class=\"sk-label-container\"><div class=\"sk-label  sk-toggleable\"><input class=\"sk-toggleable__control sk-hidden--visually\" id=\"sk-estimator-id-1\" type=\"checkbox\" ><label for=\"sk-estimator-id-1\" class=\"sk-toggleable__label  sk-toggleable__label-arrow\"><div><div>Pipeline</div></div><div><a class=\"sk-estimator-doc-link \" rel=\"noreferrer\" target=\"_blank\" href=\"https://scikit-learn.org/1.6/modules/generated/sklearn.pipeline.Pipeline.html\">?<span>Documentation for Pipeline</span></a><span class=\"sk-estimator-doc-link \">i<span>Not fitted</span></span></div></label><div class=\"sk-toggleable__content \"><pre>Pipeline(steps=[(&#x27;features&#x27;,\n",
       "                 ColumnTransformer(transformers=[(&#x27;plot_tfidf&#x27;,\n",
       "                                                  TfidfVectorizer(max_features=300,\n",
       "                                                                  ngram_range=(1,\n",
       "                                                                               2),\n",
       "                                                                  stop_words=&#x27;english&#x27;,\n",
       "                                                                  strip_accents=&#x27;unicode&#x27;,\n",
       "                                                                  sublinear_tf=True),\n",
       "                                                  &#x27;plot&#x27;),\n",
       "                                                 (&#x27;location&#x27;,\n",
       "                                                  LocationTransformer(location_categories=[1,\n",
       "                                                                                           2,\n",
       "                                                                                           3,\n",
       "                                                                                           4]),\n",
       "                                                  &#x27;origin&#x27;)])),\n",
       "                (&#x27;selector&#x27;,\n",
       "                 SelectKBest(k=100,\n",
       "                             score_func=&lt;function chi2 at 0x0000015777424B80&gt;))])</pre></div> </div></div><div class=\"sk-serial\"><div class=\"sk-item sk-dashed-wrapped\"><div class=\"sk-label-container\"><div class=\"sk-label  sk-toggleable\"><input class=\"sk-toggleable__control sk-hidden--visually\" id=\"sk-estimator-id-2\" type=\"checkbox\" ><label for=\"sk-estimator-id-2\" class=\"sk-toggleable__label  sk-toggleable__label-arrow\"><div><div>features: ColumnTransformer</div></div><div><a class=\"sk-estimator-doc-link \" rel=\"noreferrer\" target=\"_blank\" href=\"https://scikit-learn.org/1.6/modules/generated/sklearn.compose.ColumnTransformer.html\">?<span>Documentation for features: ColumnTransformer</span></a></div></label><div class=\"sk-toggleable__content \"><pre>ColumnTransformer(transformers=[(&#x27;plot_tfidf&#x27;,\n",
       "                                 TfidfVectorizer(max_features=300,\n",
       "                                                 ngram_range=(1, 2),\n",
       "                                                 stop_words=&#x27;english&#x27;,\n",
       "                                                 strip_accents=&#x27;unicode&#x27;,\n",
       "                                                 sublinear_tf=True),\n",
       "                                 &#x27;plot&#x27;),\n",
       "                                (&#x27;location&#x27;,\n",
       "                                 LocationTransformer(location_categories=[1, 2,\n",
       "                                                                          3,\n",
       "                                                                          4]),\n",
       "                                 &#x27;origin&#x27;)])</pre></div> </div></div><div class=\"sk-parallel\"><div class=\"sk-parallel-item\"><div class=\"sk-item\"><div class=\"sk-label-container\"><div class=\"sk-label  sk-toggleable\"><input class=\"sk-toggleable__control sk-hidden--visually\" id=\"sk-estimator-id-3\" type=\"checkbox\" ><label for=\"sk-estimator-id-3\" class=\"sk-toggleable__label  sk-toggleable__label-arrow\"><div><div>plot_tfidf</div></div></label><div class=\"sk-toggleable__content \"><pre>plot</pre></div> </div></div><div class=\"sk-serial\"><div class=\"sk-item\"><div class=\"sk-estimator  sk-toggleable\"><input class=\"sk-toggleable__control sk-hidden--visually\" id=\"sk-estimator-id-4\" type=\"checkbox\" ><label for=\"sk-estimator-id-4\" class=\"sk-toggleable__label  sk-toggleable__label-arrow\"><div><div>TfidfVectorizer</div></div><div><a class=\"sk-estimator-doc-link \" rel=\"noreferrer\" target=\"_blank\" href=\"https://scikit-learn.org/1.6/modules/generated/sklearn.feature_extraction.text.TfidfVectorizer.html\">?<span>Documentation for TfidfVectorizer</span></a></div></label><div class=\"sk-toggleable__content \"><pre>TfidfVectorizer(max_features=300, ngram_range=(1, 2), stop_words=&#x27;english&#x27;,\n",
       "                strip_accents=&#x27;unicode&#x27;, sublinear_tf=True)</pre></div> </div></div></div></div></div><div class=\"sk-parallel-item\"><div class=\"sk-item\"><div class=\"sk-label-container\"><div class=\"sk-label  sk-toggleable\"><input class=\"sk-toggleable__control sk-hidden--visually\" id=\"sk-estimator-id-5\" type=\"checkbox\" ><label for=\"sk-estimator-id-5\" class=\"sk-toggleable__label  sk-toggleable__label-arrow\"><div><div>location</div></div></label><div class=\"sk-toggleable__content \"><pre>origin</pre></div> </div></div><div class=\"sk-serial\"><div class=\"sk-item\"><div class=\"sk-estimator  sk-toggleable\"><input class=\"sk-toggleable__control sk-hidden--visually\" id=\"sk-estimator-id-6\" type=\"checkbox\" ><label for=\"sk-estimator-id-6\" class=\"sk-toggleable__label  sk-toggleable__label-arrow\"><div><div>LocationTransformer</div></div></label><div class=\"sk-toggleable__content \"><pre>LocationTransformer(location_categories=[1, 2, 3, 4])</pre></div> </div></div></div></div></div></div></div><div class=\"sk-item\"><div class=\"sk-estimator  sk-toggleable\"><input class=\"sk-toggleable__control sk-hidden--visually\" id=\"sk-estimator-id-7\" type=\"checkbox\" ><label for=\"sk-estimator-id-7\" class=\"sk-toggleable__label  sk-toggleable__label-arrow\"><div><div>SelectKBest</div></div><div><a class=\"sk-estimator-doc-link \" rel=\"noreferrer\" target=\"_blank\" href=\"https://scikit-learn.org/1.6/modules/generated/sklearn.feature_selection.SelectKBest.html\">?<span>Documentation for SelectKBest</span></a></div></label><div class=\"sk-toggleable__content \"><pre>SelectKBest(k=100, score_func=&lt;function chi2 at 0x0000015777424B80&gt;)</pre></div> </div></div></div></div></div></div>"
      ],
      "text/plain": [
       "Pipeline(steps=[('features',\n",
       "                 ColumnTransformer(transformers=[('plot_tfidf',\n",
       "                                                  TfidfVectorizer(max_features=300,\n",
       "                                                                  ngram_range=(1,\n",
       "                                                                               2),\n",
       "                                                                  stop_words='english',\n",
       "                                                                  strip_accents='unicode',\n",
       "                                                                  sublinear_tf=True),\n",
       "                                                  'plot'),\n",
       "                                                 ('location',\n",
       "                                                  LocationTransformer(location_categories=[1,\n",
       "                                                                                           2,\n",
       "                                                                                           3,\n",
       "                                                                                           4]),\n",
       "                                                  'origin')])),\n",
       "                ('selector',\n",
       "                 SelectKBest(k=100,\n",
       "                             score_func=<function chi2 at 0x0000015777424B80>))])"
      ]
     },
     "execution_count": 2,
     "metadata": {},
     "output_type": "execute_result"
    }
   ],
   "source": [
    "\"\"\"\n",
    "Create a scikit-learn pipeline for preprocessing new data.\n",
    "\n",
    "This pipeline will transform raw text and location data into the same\n",
    "feature space used for training.\n",
    "\"\"\"\n",
    "\n",
    "\n",
    "from scipy.sparse import hstack, csr_matrix\n",
    "from sklearn.base import BaseEstimator, TransformerMixin\n",
    "from sklearn.compose import ColumnTransformer\n",
    "from sklearn.feature_extraction.text import TfidfVectorizer\n",
    "from sklearn.preprocessing import MultiLabelBinarizer\n",
    "from sklearn.feature_selection import SelectKBest, chi2\n",
    "from sklearn.pipeline import Pipeline\n",
    "\n",
    "\n",
    "class LocationTransformer(BaseEstimator, TransformerMixin):\n",
    "    def __init__(self, location_categories):\n",
    "        self.location_categories = location_categories\n",
    "\n",
    "    def fit(self, X, y=None):\n",
    "        return self\n",
    "\n",
    "    def transform(self, X):\n",
    "        X_loc = pd.get_dummies(X, prefix='loc')\n",
    "\n",
    "        # Ensure all expected categories are present\n",
    "        for cat in self.location_categories:\n",
    "            if cat not in X_loc.columns:\n",
    "                X_loc[cat] = 0\n",
    "\n",
    "        # Ensure only the expected categories are used, in the same order\n",
    "        X_loc = X_loc[self.location_categories]\n",
    "\n",
    "        # 🛠 Convert to float32 or float64 before passing to csr_matrix\n",
    "        return csr_matrix(X_loc.values.astype('float32'))\n",
    "tfidf = TfidfVectorizer(\n",
    "            max_features=300,\n",
    "            stop_words='english',\n",
    "            ngram_range=(1, 2),\n",
    "            strip_accents='unicode',\n",
    "            sublinear_tf=True\n",
    "        )\n",
    "\n",
    "mlb = MultiLabelBinarizer()\n",
    "selector = SelectKBest(chi2, k=100)\n",
    "\n",
    "# Use ColumnTransformer to apply transformers to specific columns\n",
    "preprocessor = ColumnTransformer([\n",
    "    ('plot_tfidf', tfidf, 'plot'),\n",
    "    ('location', LocationTransformer([1,2,3,4]), 'origin')\n",
    "])\n",
    "\n",
    "# Final pipeline\n",
    "pipeline = Pipeline([\n",
    "    ('features', preprocessor),\n",
    "    ('selector', selector)\n",
    "])\n",
    "pipeline"
   ]
  },
  {
   "cell_type": "code",
   "execution_count": 11,
   "id": "73b20e15",
   "metadata": {},
   "outputs": [],
   "source": [
    "# Compare predictions from different genre prediction models on a large test sample\n"
   ]
  },
  {
   "cell_type": "code",
   "execution_count": 12,
   "id": "959f2620",
   "metadata": {},
   "outputs": [
    {
     "name": "stdout",
     "output_type": "stream",
     "text": [
      "Preprocessing components loaded from saved_models\\movie_genre_predictor_preprocessing_20250521_015606\n",
      "Successfully loaded models from saved_models\\movie_genre_predictor_20250521_015606\n"
     ]
    },
    {
     "data": {
      "text/plain": [
       "[['comedy'],\n",
       " ['comedy'],\n",
       " ['comedy'],\n",
       " ['comedy', 'sci-fi'],\n",
       " [],\n",
       " ['comedy'],\n",
       " ['western'],\n",
       " ['comedy'],\n",
       " [],\n",
       " []]"
      ]
     },
     "execution_count": 12,
     "metadata": {},
     "output_type": "execute_result"
    }
   ],
   "source": [
    "df = pd.read_csv('wiki_movie_plots_deduped_cleaned.csv')\n",
    "\n",
    "predictor = GenrePredictor.load(models_dir='saved_models')\n",
    "predictor.predict(df.head(10))"
   ]
  },
  {
   "cell_type": "code",
   "execution_count": 13,
   "id": "6cf3ea30",
   "metadata": {},
   "outputs": [
    {
     "data": {
      "text/plain": [
       "{'Logistic Regression': OneVsRestClassifier(estimator=LogisticRegression(max_iter=1000, n_jobs=-1,\n",
       "                                                  random_state=42)),\n",
       " 'Multinomial Naive Bayes': OneVsRestClassifier(estimator=MultinomialNB()),\n",
       " 'Decision Tree': OneVsRestClassifier(estimator=DecisionTreeClassifier(random_state=42))}"
      ]
     },
     "execution_count": 13,
     "metadata": {},
     "output_type": "execute_result"
    }
   ],
   "source": [
    "predictor.evaluator.models"
   ]
  },
  {
   "cell_type": "code",
   "execution_count": null,
   "id": "a8a32350",
   "metadata": {},
   "outputs": [],
   "source": []
  },
  {
   "cell_type": "code",
   "execution_count": null,
   "id": "6e514815",
   "metadata": {},
   "outputs": [],
   "source": []
  }
 ],
 "metadata": {
  "kernelspec": {
   "display_name": "ml_env",
   "language": "python",
   "name": "python3"
  },
  "language_info": {
   "codemirror_mode": {
    "name": "ipython",
    "version": 3
   },
   "file_extension": ".py",
   "mimetype": "text/x-python",
   "name": "python",
   "nbconvert_exporter": "python",
   "pygments_lexer": "ipython3",
   "version": "3.11.2"
  }
 },
 "nbformat": 4,
 "nbformat_minor": 5
}
