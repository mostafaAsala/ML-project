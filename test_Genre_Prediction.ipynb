{
 "cells": [
  {
   "cell_type": "code",
   "execution_count": 1,
   "id": "1a9272e9",
   "metadata": {},
   "outputs": [],
   "source": [
    "\n",
    "import pandas as pd\n",
    "from genre_predictor import GenrePredictor\n"
   ]
  },
  {
   "cell_type": "code",
   "execution_count": 2,
   "id": "2fa2f85b",
   "metadata": {},
   "outputs": [
    {
     "name": "stdout",
     "output_type": "stream",
     "text": [
      "=== Training a new GenrePredictor ===\n",
      "Loaded dataset with 34886 movies\n",
      "After filtering empty genres: 26808 movies\n"
     ]
    },
    {
     "data": {
      "text/plain": [
       "<genre_predictor.GenrePredictor at 0x221eabc1c90>"
      ]
     },
     "execution_count": 2,
     "metadata": {},
     "output_type": "execute_result"
    }
   ],
   "source": [
    "\"\"\"\n",
    "Example of training a new GenrePredictor and saving it.\n",
    "\"\"\"\n",
    "print(\"=== Training a new GenrePredictor ===\")\n",
    "\n",
    "# Create a new GenrePredictor\n",
    "predictor = GenrePredictor(random_state=42, models_dir='saved_models')\n",
    "\n",
    "# Load and prepare data\n",
    "predictor.load_data(\n",
    "    file_path='wiki_movie_plots_deduped_cleaned.csv',\n",
    "    plot_col='plot_lemmatized',\n",
    "    genre_col='genre_list',\n",
    "    location_col='Origin/Ethnicity'\n",
    ")"
   ]
  },
  {
   "cell_type": "code",
   "execution_count": 3,
   "id": "a85a4d31",
   "metadata": {},
   "outputs": [
    {
     "name": "stdout",
     "output_type": "stream",
     "text": [
      "TF-IDF features shape: (26808, 300)\n",
      "Target shape: (26808, 20)\n",
      "Genre classes: ['action' 'adventure' 'animation' 'biography' 'comedy' 'crime'\n",
      " 'documentary' 'drama' 'family' 'fantasy' 'history' 'horror' 'musical'\n",
      " 'mystery' 'romance' 'sci-fi' 'sport' 'thriller' 'war' 'western']\n",
      "Location features shape: (26808, 24)\n",
      "Combined features shape: (26808, 324)\n",
      "Selected features shape: (26808, 100)\n"
     ]
    },
    {
     "data": {
      "text/plain": [
       "<genre_predictor.GenrePredictor at 0x221eabc1c90>"
      ]
     },
     "execution_count": 3,
     "metadata": {},
     "output_type": "execute_result"
    }
   ],
   "source": [
    "# Prepare features\n",
    "predictor.prepare_features()\n"
   ]
  },
  {
   "cell_type": "code",
   "execution_count": 4,
   "id": "9576ddc7",
   "metadata": {},
   "outputs": [
    {
     "name": "stdout",
     "output_type": "stream",
     "text": [
      "Ading basic models...\n",
      "Evaluating Logistic Regression...\n",
      "Evaluating Multinomial Naive Bayes...\n",
      "Evaluating Decision Tree...\n",
      "Evaluation complete. Best model: Decision Tree (F1-micro: 0.3028)\n",
      "Model Performance Summary:\n",
      "                     Model  F1-micro  F1-macro  F1-weighted  Hamming Loss\n",
      "0            Decision Tree  0.302825  0.182258     0.302741      0.082395\n",
      "1      Logistic Regression  0.250835  0.123547     0.238614      0.056481\n",
      "2  Multinomial Naive Bayes  0.088626  0.026326     0.079432      0.058877\n"
     ]
    },
    {
     "data": {
      "text/plain": [
       "<genre_predictor.GenrePredictor at 0x221eabc1c90>"
      ]
     },
     "execution_count": 4,
     "metadata": {},
     "output_type": "execute_result"
    }
   ],
   "source": [
    "# Train models (using only basic and intermediate for speed)\n",
    "predictor.train_models(model_levels=['basic'])\n",
    "    "
   ]
  },
  {
   "cell_type": "code",
   "execution_count": 5,
   "id": "b52761f3",
   "metadata": {},
   "outputs": [
    {
     "name": "stdout",
     "output_type": "stream",
     "text": [
      "Preprocessing components saved to saved_models\\movie_genre_predictor_preprocessing_20250521_015606\n",
      "Model Performance Summary:\n",
      "                     Model  F1-micro  F1-macro  F1-weighted  Hamming Loss\n",
      "0            Decision Tree  0.302825  0.182258     0.302741      0.082395\n",
      "1      Logistic Regression  0.250835  0.123547     0.238614      0.056481\n",
      "2  Multinomial Naive Bayes  0.088626  0.026326     0.079432      0.058877\n",
      "All models saved successfully to saved_models\\movie_genre_predictor_20250521_015606\n",
      "Models and preprocessing components saved to saved_models\\movie_genre_predictor_20250521_015606\n"
     ]
    }
   ],
   "source": [
    "# Save models and preprocessing components\n",
    "save_info = predictor.save_models(\n",
    "    dataset_name='movie_genre_predictor',\n",
    "    save_all=True,\n",
    "    include_data=False\n",
    ")\n",
    "\n",
    "print(f\"Models and preprocessing components saved to {save_info['base_directory']}\")\n"
   ]
  },
  {
   "cell_type": "markdown",
   "id": "2fa61b20",
   "metadata": {},
   "source": [
    "# Loading and Predict\n"
   ]
  },
  {
   "cell_type": "code",
   "execution_count": 6,
   "id": "1197b2d3",
   "metadata": {},
   "outputs": [
    {
     "name": "stdout",
     "output_type": "stream",
     "text": [
      "\n",
      "=== Loading a saved GenrePredictor ===\n",
      "Preprocessing components loaded from saved_models\\movie_genre_predictor_preprocessing_20250521_015606\n",
      "Successfully loaded models from saved_models\\movie_genre_predictor_20250521_015606\n",
      "Loaded predictor with best model: Decision Tree\n"
     ]
    }
   ],
   "source": [
    "print(\"\\n=== Loading a saved GenrePredictor ===\")\n",
    "\n",
    "# Load the saved predictor\n",
    "predictor = GenrePredictor.load(models_dir='saved_models')\n",
    "\n",
    "print(f\"Loaded predictor with best model: {predictor.evaluator.best_model_name}\")\n"
   ]
  },
  {
   "cell_type": "code",
   "execution_count": 7,
   "id": "7835d50d",
   "metadata": {},
   "outputs": [],
   "source": [
    "# Create some example movie data\n",
    "example_movies = [\n",
    "    {\n",
    "        'plot_lemmatized': \"A superhero with extraordinary powers fights against an evil villain to save the world from destruction.\",\n",
    "        'Origin/Ethnicity': \"American\"\n",
    "    },\n",
    "    {\n",
    "        'plot_lemmatized': \"Two people meet and fall in love despite their different backgrounds and families who disapprove of their relationship.\",\n",
    "        'Origin/Ethnicity': \"British\"\n",
    "    },\n",
    "    {\n",
    "        'plot_lemmatized': \"A detective investigates a series of mysterious murders in a small town, uncovering dark secrets about the residents.\",\n",
    "        'Origin/Ethnicity': \"French\"\n",
    "    },\n",
    "    {\n",
    "        'plot_lemmatized': \"Astronauts travel to a distant planet where they discover an alien civilization and must find a way to communicate with them.\",\n",
    "        'Origin/Ethnicity': \"American\"\n",
    "    }\n",
    "]"
   ]
  },
  {
   "cell_type": "code",
   "execution_count": 8,
   "id": "a33ae52d",
   "metadata": {},
   "outputs": [
    {
     "data": {
      "text/html": [
       "<div>\n",
       "<style scoped>\n",
       "    .dataframe tbody tr th:only-of-type {\n",
       "        vertical-align: middle;\n",
       "    }\n",
       "\n",
       "    .dataframe tbody tr th {\n",
       "        vertical-align: top;\n",
       "    }\n",
       "\n",
       "    .dataframe thead th {\n",
       "        text-align: right;\n",
       "    }\n",
       "</style>\n",
       "<table border=\"1\" class=\"dataframe\">\n",
       "  <thead>\n",
       "    <tr style=\"text-align: right;\">\n",
       "      <th></th>\n",
       "      <th>plot_lemmatized</th>\n",
       "      <th>Origin/Ethnicity</th>\n",
       "    </tr>\n",
       "  </thead>\n",
       "  <tbody>\n",
       "    <tr>\n",
       "      <th>0</th>\n",
       "      <td>A superhero with extraordinary powers fights a...</td>\n",
       "      <td>American</td>\n",
       "    </tr>\n",
       "    <tr>\n",
       "      <th>1</th>\n",
       "      <td>Two people meet and fall in love despite their...</td>\n",
       "      <td>British</td>\n",
       "    </tr>\n",
       "    <tr>\n",
       "      <th>2</th>\n",
       "      <td>A detective investigates a series of mysteriou...</td>\n",
       "      <td>French</td>\n",
       "    </tr>\n",
       "    <tr>\n",
       "      <th>3</th>\n",
       "      <td>Astronauts travel to a distant planet where th...</td>\n",
       "      <td>American</td>\n",
       "    </tr>\n",
       "  </tbody>\n",
       "</table>\n",
       "</div>"
      ],
      "text/plain": [
       "                                     plot_lemmatized Origin/Ethnicity\n",
       "0  A superhero with extraordinary powers fights a...         American\n",
       "1  Two people meet and fall in love despite their...          British\n",
       "2  A detective investigates a series of mysteriou...           French\n",
       "3  Astronauts travel to a distant planet where th...         American"
      ]
     },
     "execution_count": 8,
     "metadata": {},
     "output_type": "execute_result"
    }
   ],
   "source": [
    "# Convert to DataFrame\n",
    "example_df = pd.DataFrame(example_movies)\n",
    "example_df"
   ]
  },
  {
   "cell_type": "code",
   "execution_count": 9,
   "id": "e1591ca5",
   "metadata": {},
   "outputs": [
    {
     "name": "stdout",
     "output_type": "stream",
     "text": [
      "\n",
      "Making predictions on example movies:\n"
     ]
    }
   ],
   "source": [
    "\n",
    "# Make predictions\n",
    "print(\"\\nMaking predictions on example movies:\")\n",
    "predictions = predictor.predict(example_df)\n"
   ]
  },
  {
   "cell_type": "code",
   "execution_count": 10,
   "id": "f03e30ee",
   "metadata": {},
   "outputs": [
    {
     "data": {
      "text/plain": [
       "[['fantasy', 'romance'], ['drama', 'romance'], ['comedy', 'drama'], ['action']]"
      ]
     },
     "execution_count": 10,
     "metadata": {},
     "output_type": "execute_result"
    }
   ],
   "source": [
    "predictions"
   ]
  },
  {
   "cell_type": "code",
   "execution_count": 11,
   "id": "8f05472c",
   "metadata": {},
   "outputs": [
    {
     "name": "stdout",
     "output_type": "stream",
     "text": [
      "\n",
      "Movie 1:\n",
      "Plot: A superhero with extraordinary powers fights against an evil villain to save the world from destruct...\n",
      "Origin: American\n",
      "Predicted genres: ['fantasy', 'romance']\n",
      "\n",
      "Movie 2:\n",
      "Plot: Two people meet and fall in love despite their different backgrounds and families who disapprove of ...\n",
      "Origin: British\n",
      "Predicted genres: ['drama', 'romance']\n",
      "\n",
      "Movie 3:\n",
      "Plot: A detective investigates a series of mysterious murders in a small town, uncovering dark secrets abo...\n",
      "Origin: French\n",
      "Predicted genres: ['comedy', 'drama']\n",
      "\n",
      "Movie 4:\n",
      "Plot: Astronauts travel to a distant planet where they discover an alien civilization and must find a way ...\n",
      "Origin: American\n",
      "Predicted genres: ['action']\n"
     ]
    }
   ],
   "source": [
    "# Display results\n",
    "for i, (movie, genres) in enumerate(zip(example_movies, predictions)):\n",
    "    print(f\"\\nMovie {i+1}:\")\n",
    "    print(f\"Plot: {movie['plot_lemmatized'][:100]}...\")\n",
    "    print(f\"Origin: {movie['Origin/Ethnicity']}\")\n",
    "    print(f\"Predicted genres: {genres}\")\n"
   ]
  },
  {
   "cell_type": "code",
   "execution_count": 12,
   "id": "0d35b9fb",
   "metadata": {},
   "outputs": [
    {
     "name": "stdout",
     "output_type": "stream",
     "text": [
      "None\n"
     ]
    }
   ],
   "source": [
    "print(predictor.df)"
   ]
  },
  {
   "cell_type": "code",
   "execution_count": 13,
   "id": "e0976d1d",
   "metadata": {},
   "outputs": [],
   "source": [
    "from sklearn.preprocessing import MultiLabelBinarizer\n",
    "\n",
    "\n",
    "mlb = MultiLabelBinarizer()\n",
    "df = pd.read_csv('wiki_movie_plots_deduped_cleaned.csv')"
   ]
  },
  {
   "cell_type": "code",
   "execution_count": 14,
   "id": "ea124463",
   "metadata": {},
   "outputs": [],
   "source": [
    "\n",
    "y = mlb.fit_transform(df['genre_list'])"
   ]
  },
  {
   "cell_type": "code",
   "execution_count": 16,
   "id": "58390d2a",
   "metadata": {},
   "outputs": [
    {
     "data": {
      "text/plain": [
       "(34886, 27)"
      ]
     },
     "execution_count": 16,
     "metadata": {},
     "output_type": "execute_result"
    }
   ],
   "source": [
    "y.shape"
   ]
  },
  {
   "cell_type": "code",
   "execution_count": 17,
   "id": "5dad6037",
   "metadata": {},
   "outputs": [
    {
     "data": {
      "text/plain": [
       "array([' ', \"'\", ',', '-', '[', ']', 'a', 'b', 'c', 'd', 'e', 'f', 'g',\n",
       "       'h', 'i', 'l', 'm', 'n', 'o', 'p', 'r', 's', 't', 'u', 'v', 'w',\n",
       "       'y'], dtype=object)"
      ]
     },
     "execution_count": 17,
     "metadata": {},
     "output_type": "execute_result"
    }
   ],
   "source": [
    "mlb.classes_"
   ]
  },
  {
   "cell_type": "code",
   "execution_count": 18,
   "id": "d37a8284",
   "metadata": {},
   "outputs": [
    {
     "data": {
      "text/plain": [
       "0                []\n",
       "1                []\n",
       "2                []\n",
       "3                []\n",
       "4                []\n",
       "            ...    \n",
       "34881            []\n",
       "34882    ['comedy']\n",
       "34883    ['comedy']\n",
       "34884    ['comedy']\n",
       "34885            []\n",
       "Name: genre_list, Length: 34886, dtype: object"
      ]
     },
     "execution_count": 18,
     "metadata": {},
     "output_type": "execute_result"
    }
   ],
   "source": [
    "df['genre_list']"
   ]
  },
  {
   "cell_type": "code",
   "execution_count": null,
   "id": "1c3214f8",
   "metadata": {},
   "outputs": [
    {
     "ename": "ImportError",
     "evalue": "cannot import name 'hub_matrix' from 'networkx' (c:\\Users\\161070\\OneDrive - Arrow Electronics, Inc\\MyWork\\Tools\\Projects\\OneTimeProjects\\ML project\\ml_env\\Lib\\site-packages\\networkx\\__init__.py)",
     "output_type": "error",
     "traceback": [
      "\u001b[31m---------------------------------------------------------------------------\u001b[39m",
      "\u001b[31mImportError\u001b[39m                               Traceback (most recent call last)",
      "\u001b[36mCell\u001b[39m\u001b[36m \u001b[39m\u001b[32mIn[1]\u001b[39m\u001b[32m, line 8\u001b[39m\n\u001b[32m      1\u001b[39m \u001b[33;03m\"\"\"\u001b[39;00m\n\u001b[32m      2\u001b[39m \u001b[33;03mCreate a scikit-learn pipeline for preprocessing new data.\u001b[39;00m\n\u001b[32m      3\u001b[39m \n\u001b[32m      4\u001b[39m \u001b[33;03mThis pipeline will transform raw text and location data into the same\u001b[39;00m\n\u001b[32m      5\u001b[39m \u001b[33;03mfeature space used for training.\u001b[39;00m\n\u001b[32m      6\u001b[39m \u001b[33;03m\"\"\"\u001b[39;00m\n\u001b[32m----> \u001b[39m\u001b[32m8\u001b[39m \u001b[38;5;28;01mfrom\u001b[39;00m\u001b[38;5;250m \u001b[39m\u001b[34;01mnetworkx\u001b[39;00m\u001b[38;5;250m \u001b[39m\u001b[38;5;28;01mimport\u001b[39;00m hub_matrix\n\u001b[32m      9\u001b[39m \u001b[38;5;28;01mfrom\u001b[39;00m\u001b[38;5;250m \u001b[39m\u001b[34;01msklearn\u001b[39;00m\u001b[34;01m.\u001b[39;00m\u001b[34;01mbase\u001b[39;00m\u001b[38;5;250m \u001b[39m\u001b[38;5;28;01mimport\u001b[39;00m BaseEstimator, TransformerMixin\n\u001b[32m     10\u001b[39m \u001b[38;5;28;01mfrom\u001b[39;00m\u001b[38;5;250m \u001b[39m\u001b[34;01msklearn\u001b[39;00m\u001b[34;01m.\u001b[39;00m\u001b[34;01mcompose\u001b[39;00m\u001b[38;5;250m \u001b[39m\u001b[38;5;28;01mimport\u001b[39;00m ColumnTransformer\n",
      "\u001b[31mImportError\u001b[39m: cannot import name 'hub_matrix' from 'networkx' (c:\\Users\\161070\\OneDrive - Arrow Electronics, Inc\\MyWork\\Tools\\Projects\\OneTimeProjects\\ML project\\ml_env\\Lib\\site-packages\\networkx\\__init__.py)"
     ]
    }
   ],
   "source": [
    "\"\"\"\n",
    "Create a scikit-learn pipeline for preprocessing new data.\n",
    "\n",
    "This pipeline will transform raw text and location data into the same\n",
    "feature space used for training.\n",
    "\"\"\"\n",
    "\n",
    "\n",
    "from scipy.sparse import hstack, csr_matrix\n",
    "from sklearn.base import BaseEstimator, TransformerMixin\n",
    "from sklearn.compose import ColumnTransformer\n",
    "from sklearn.feature_extraction.text import TfidfVectorizer\n",
    "from sklearn.preprocessing import MultiLabelBinarizer\n",
    "from sklearn.feature_selection import SelectKBest, chi2\n",
    "from sklearn.pipeline import Pipeline\n",
    "\n",
    "\n",
    "class LocationTransformer(BaseEstimator, TransformerMixin):\n",
    "    def __init__(self, location_categories):\n",
    "        self.location_categories = location_categories\n",
    "\n",
    "    def fit(self, X, y=None):\n",
    "        return self\n",
    "\n",
    "    def transform(self, X):\n",
    "        X_loc = pd.get_dummies(X, prefix='loc')\n",
    "\n",
    "        # Ensure all expected categories are present\n",
    "        for cat in self.location_categories:\n",
    "            if cat not in X_loc.columns:\n",
    "                X_loc[cat] = 0\n",
    "\n",
    "        # Ensure only the expected categories are used, in the same order\n",
    "        X_loc = X_loc[self.location_categories]\n",
    "\n",
    "        # 🛠 Convert to float32 or float64 before passing to csr_matrix\n",
    "        return csr_matrix(X_loc.values.astype('float32'))\n",
    "tfidf = TfidfVectorizer(\n",
    "            max_features=300,\n",
    "            stop_words='english',\n",
    "            ngram_range=(1, 2),\n",
    "            strip_accents='unicode',\n",
    "            sublinear_tf=True\n",
    "        )\n",
    "\n",
    "mlb = MultiLabelBinarizer()\n",
    "selector = SelectKBest(chi2, k=100)\n",
    "\n",
    "# Use ColumnTransformer to apply transformers to specific columns\n",
    "preprocessor = ColumnTransformer([\n",
    "    ('plot_tfidf', tfidf, 'plot'),\n",
    "    ('location', LocationTransformer([1,2,3,4]), 'origin')\n",
    "])\n",
    "\n",
    "# Final pipeline\n",
    "pipeline = Pipeline([\n",
    "    ('features', preprocessor),\n",
    "    ('selector', selector)\n",
    "])\n",
    "pipeline"
   ]
  }
 ],
 "metadata": {
  "kernelspec": {
   "display_name": "ml_env",
   "language": "python",
   "name": "python3"
  },
  "language_info": {
   "codemirror_mode": {
    "name": "ipython",
    "version": 3
   },
   "file_extension": ".py",
   "mimetype": "text/x-python",
   "name": "python",
   "nbconvert_exporter": "python",
   "pygments_lexer": "ipython3",
   "version": "3.11.2"
  }
 },
 "nbformat": 4,
 "nbformat_minor": 5
}
