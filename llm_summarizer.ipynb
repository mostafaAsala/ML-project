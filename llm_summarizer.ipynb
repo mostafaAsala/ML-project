{
 "cells": [
  {
   "cell_type": "code",
   "execution_count": null,
   "id": "130a4624",
   "metadata": {},
   "outputs": [],
   "source": [
    "\n",
    "from mistralai import Mistral\n",
    "\n",
    "client = Mistral(api_key='apyBSpr2TCJj8TwRpVQCaBU4vKtyTUTB')\n",
    "\n",
    "\n",
    "messages = [\n",
    "    {'role':\"system\", 'content':\"\"\"\n",
    "You are a helpful assistant that writes short, non-spoiler summaries of movie plots.\n",
    "\n",
    "Rules:\n",
    "- Do NOT reveal endings or major plot twists.\n",
    "- Focus on the setup and tone of the film.\n",
    "- Use 1-2 concise sentences.\n",
    "\"\"\"},\n",
    "    {'role':\"user\", 'content':'Shawshank Redemption'} #\"\"\"Andy Dufresne is sentenced to two consecutive life terms in prison for the murders of his wife and her lover and is sentenced to a tough prison. However, only Andy knows he didn't commit the crimes. While there, he forms a friendship with Red, experiences brutality of prison life, adapts, helps the warden, etc., all in 19 years.\"\"\"}\n",
    "]\n",
    "chat_response = client.chat.complete(\n",
    "    model = \"mistral-small-latest\",\n",
    "    messages = messages,\n",
    "    temperature=0.7,\n",
    "    max_tokens=150\n",
    ")"
   ]
  },
  {
   "cell_type": "code",
   "execution_count": 10,
   "id": "bba8f161",
   "metadata": {},
   "outputs": [
    {
     "data": {
      "text/plain": [
       "'\"Shawshank Redemption\" is a dramatic tale of hope and friendship set in a 1940s prison, following a banker sentenced for a crime he did not commit and his enduring spirit amidst the harsh realities of incarceration. The story is told through the eyes of his friend, a fellow inmate known as Red.'"
      ]
     },
     "execution_count": 10,
     "metadata": {},
     "output_type": "execute_result"
    }
   ],
   "source": [
    "chat_response.choices[0].message.content"
   ]
  },
  {
   "cell_type": "code",
   "execution_count": null,
   "id": "8ddc6c93",
   "metadata": {},
   "outputs": [],
   "source": []
  }
 ],
 "metadata": {
  "kernelspec": {
   "display_name": "ml_env",
   "language": "python",
   "name": "python3"
  },
  "language_info": {
   "codemirror_mode": {
    "name": "ipython",
    "version": 3
   },
   "file_extension": ".py",
   "mimetype": "text/x-python",
   "name": "python",
   "nbconvert_exporter": "python",
   "pygments_lexer": "ipython3",
   "version": "3.11.2"
  }
 },
 "nbformat": 4,
 "nbformat_minor": 5
}
